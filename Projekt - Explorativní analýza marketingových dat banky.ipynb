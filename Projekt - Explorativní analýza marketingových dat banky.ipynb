{
 "cells": [
  {
   "cell_type": "markdown",
   "id": "68d9ce38",
   "metadata": {},
   "source": [
    "# projekt - Explorativní analýza marketingových dat banky"
   ]
  },
  {
   "cell_type": "markdown",
   "id": "1443e32e",
   "metadata": {},
   "source": [
    "# Úvod\n",
    "\n",
    "\n",
    "Dataset pochází z přímé marketingové kampaně portugalské banky. Marketingová strategie byla založena na telefonickém oslovení stávajících klientů banky. Klientům byl nabídnut produkt (bankovní termínovaný vklad).\n",
    "\n",
    "####  Cíle:\n",
    "1. Vyčistit dataset\n",
    "2. Prozkoumat dataset\n",
    "3. Vizualizovat dataset\n",
    "\n",
    "\n",
    "#### Proměnné v datasetu:\n",
    "\n",
    "- age : (numeric)\n",
    "- job : type of job(categorical)\n",
    "- marital : marital status (categorical)\n",
    "- education (categorical)\n",
    "- default: has credit in default? (categorical)\n",
    "- housing: has housing loan? (categorical)\n",
    "- loan: has personal loan? (categorical)\n",
    "- contact: contact communication type (categorical) \n",
    "- month: last contact month of year (categorical)\n",
    "- day_of_week: last contact day of the week (categorical)\n",
    "- duration: last contact duration, in seconds (numeric)\n",
    "- campaign: number of contacts performed during this campaign and for this client (numeric)\n",
    "- pdays: number of days that passed by after the client was last contacted from a previous campaign (numeric)\n",
    "- previous: number of contacts performed before this campaign and for this client (numeric)\n",
    "- poutcome: outcome of the previous marketing campaign (categorical)\n",
    "- emp.var.rate: employment variation rate - quarterly indicator (numeric)\n",
    "- cons.price.idx: consumer price index - monthly indicator (numeric)     \n",
    "- cons.conf.idx: consumer confidence index - monthly indicator (numeric)     \n",
    "- euribor3m: euribor 3 month rate - daily indicator (numeric)\n",
    "- nr.employed: number of employees - quarterly indicator (numeric)\n",
    "- y - has the client subscribed a term deposit? (binary)\n",
    "\n",
    "#### Citace:\n",
    "Moro,S., Rita,P., and Cortez,P.. (2012). Bank Marketing. UCI Machine Learning Repository. https://doi.org/10.24432/C5K306.\n"
   ]
  },
  {
   "cell_type": "markdown",
   "id": "71f56203",
   "metadata": {},
   "source": [
    "# Příprava dat"
   ]
  },
  {
   "cell_type": "code",
   "execution_count": 182,
   "id": "485c9ed0",
   "metadata": {},
   "outputs": [],
   "source": [
    "import pandas as pd\n",
    "import numpy as np\n",
    "import seaborn as sns\n",
    "import matplotlib.pyplot as plt\n",
    "import scipy.stats as stats"
   ]
  },
  {
   "cell_type": "code",
   "execution_count": 183,
   "id": "4dcc3854",
   "metadata": {},
   "outputs": [],
   "source": [
    "df = pd.read_csv(\"bank-additional-full.csv\", delimiter=\";\")\n",
    "df = df[[\"age\",\"job\",\"marital\",\"education\",\"loan\",\"day_of_week\",\"month\",\"duration\",\"campaign\",\"y\"]]\n",
    "df = df.rename(columns={\"y\": \"converted\"})"
   ]
  },
  {
   "cell_type": "code",
   "execution_count": 184,
   "id": "9bbd5724",
   "metadata": {},
   "outputs": [
    {
     "data": {
      "text/html": [
       "<div>\n",
       "<style scoped>\n",
       "    .dataframe tbody tr th:only-of-type {\n",
       "        vertical-align: middle;\n",
       "    }\n",
       "\n",
       "    .dataframe tbody tr th {\n",
       "        vertical-align: top;\n",
       "    }\n",
       "\n",
       "    .dataframe thead th {\n",
       "        text-align: right;\n",
       "    }\n",
       "</style>\n",
       "<table border=\"1\" class=\"dataframe\">\n",
       "  <thead>\n",
       "    <tr style=\"text-align: right;\">\n",
       "      <th></th>\n",
       "      <th>age</th>\n",
       "      <th>job</th>\n",
       "      <th>marital</th>\n",
       "      <th>education</th>\n",
       "      <th>loan</th>\n",
       "      <th>day_of_week</th>\n",
       "      <th>month</th>\n",
       "      <th>duration</th>\n",
       "      <th>campaign</th>\n",
       "      <th>converted</th>\n",
       "    </tr>\n",
       "  </thead>\n",
       "  <tbody>\n",
       "    <tr>\n",
       "      <th>0</th>\n",
       "      <td>56</td>\n",
       "      <td>housemaid</td>\n",
       "      <td>married</td>\n",
       "      <td>basic.4y</td>\n",
       "      <td>no</td>\n",
       "      <td>mon</td>\n",
       "      <td>may</td>\n",
       "      <td>261</td>\n",
       "      <td>1</td>\n",
       "      <td>no</td>\n",
       "    </tr>\n",
       "    <tr>\n",
       "      <th>1</th>\n",
       "      <td>57</td>\n",
       "      <td>services</td>\n",
       "      <td>married</td>\n",
       "      <td>high.school</td>\n",
       "      <td>no</td>\n",
       "      <td>mon</td>\n",
       "      <td>may</td>\n",
       "      <td>149</td>\n",
       "      <td>1</td>\n",
       "      <td>no</td>\n",
       "    </tr>\n",
       "    <tr>\n",
       "      <th>2</th>\n",
       "      <td>37</td>\n",
       "      <td>services</td>\n",
       "      <td>married</td>\n",
       "      <td>high.school</td>\n",
       "      <td>no</td>\n",
       "      <td>mon</td>\n",
       "      <td>may</td>\n",
       "      <td>226</td>\n",
       "      <td>1</td>\n",
       "      <td>no</td>\n",
       "    </tr>\n",
       "    <tr>\n",
       "      <th>3</th>\n",
       "      <td>40</td>\n",
       "      <td>admin.</td>\n",
       "      <td>married</td>\n",
       "      <td>basic.6y</td>\n",
       "      <td>no</td>\n",
       "      <td>mon</td>\n",
       "      <td>may</td>\n",
       "      <td>151</td>\n",
       "      <td>1</td>\n",
       "      <td>no</td>\n",
       "    </tr>\n",
       "    <tr>\n",
       "      <th>4</th>\n",
       "      <td>56</td>\n",
       "      <td>services</td>\n",
       "      <td>married</td>\n",
       "      <td>high.school</td>\n",
       "      <td>yes</td>\n",
       "      <td>mon</td>\n",
       "      <td>may</td>\n",
       "      <td>307</td>\n",
       "      <td>1</td>\n",
       "      <td>no</td>\n",
       "    </tr>\n",
       "  </tbody>\n",
       "</table>\n",
       "</div>"
      ],
      "text/plain": [
       "   age        job  marital    education loan day_of_week month  duration  \\\n",
       "0   56  housemaid  married     basic.4y   no         mon   may       261   \n",
       "1   57   services  married  high.school   no         mon   may       149   \n",
       "2   37   services  married  high.school   no         mon   may       226   \n",
       "3   40     admin.  married     basic.6y   no         mon   may       151   \n",
       "4   56   services  married  high.school  yes         mon   may       307   \n",
       "\n",
       "   campaign converted  \n",
       "0         1        no  \n",
       "1         1        no  \n",
       "2         1        no  \n",
       "3         1        no  \n",
       "4         1        no  "
      ]
     },
     "execution_count": 184,
     "metadata": {},
     "output_type": "execute_result"
    }
   ],
   "source": [
    "df.head()"
   ]
  },
  {
   "cell_type": "code",
   "execution_count": 185,
   "id": "2969ab81",
   "metadata": {},
   "outputs": [
    {
     "data": {
      "text/html": [
       "<div>\n",
       "<style scoped>\n",
       "    .dataframe tbody tr th:only-of-type {\n",
       "        vertical-align: middle;\n",
       "    }\n",
       "\n",
       "    .dataframe tbody tr th {\n",
       "        vertical-align: top;\n",
       "    }\n",
       "\n",
       "    .dataframe thead th {\n",
       "        text-align: right;\n",
       "    }\n",
       "</style>\n",
       "<table border=\"1\" class=\"dataframe\">\n",
       "  <thead>\n",
       "    <tr style=\"text-align: right;\">\n",
       "      <th></th>\n",
       "      <th>age</th>\n",
       "      <th>duration</th>\n",
       "      <th>campaign</th>\n",
       "    </tr>\n",
       "  </thead>\n",
       "  <tbody>\n",
       "    <tr>\n",
       "      <th>count</th>\n",
       "      <td>41188.00000</td>\n",
       "      <td>41188.000000</td>\n",
       "      <td>41188.000000</td>\n",
       "    </tr>\n",
       "    <tr>\n",
       "      <th>mean</th>\n",
       "      <td>40.02406</td>\n",
       "      <td>258.285010</td>\n",
       "      <td>2.567593</td>\n",
       "    </tr>\n",
       "    <tr>\n",
       "      <th>std</th>\n",
       "      <td>10.42125</td>\n",
       "      <td>259.279249</td>\n",
       "      <td>2.770014</td>\n",
       "    </tr>\n",
       "    <tr>\n",
       "      <th>min</th>\n",
       "      <td>17.00000</td>\n",
       "      <td>0.000000</td>\n",
       "      <td>1.000000</td>\n",
       "    </tr>\n",
       "    <tr>\n",
       "      <th>25%</th>\n",
       "      <td>32.00000</td>\n",
       "      <td>102.000000</td>\n",
       "      <td>1.000000</td>\n",
       "    </tr>\n",
       "    <tr>\n",
       "      <th>50%</th>\n",
       "      <td>38.00000</td>\n",
       "      <td>180.000000</td>\n",
       "      <td>2.000000</td>\n",
       "    </tr>\n",
       "    <tr>\n",
       "      <th>75%</th>\n",
       "      <td>47.00000</td>\n",
       "      <td>319.000000</td>\n",
       "      <td>3.000000</td>\n",
       "    </tr>\n",
       "    <tr>\n",
       "      <th>max</th>\n",
       "      <td>98.00000</td>\n",
       "      <td>4918.000000</td>\n",
       "      <td>56.000000</td>\n",
       "    </tr>\n",
       "  </tbody>\n",
       "</table>\n",
       "</div>"
      ],
      "text/plain": [
       "               age      duration      campaign\n",
       "count  41188.00000  41188.000000  41188.000000\n",
       "mean      40.02406    258.285010      2.567593\n",
       "std       10.42125    259.279249      2.770014\n",
       "min       17.00000      0.000000      1.000000\n",
       "25%       32.00000    102.000000      1.000000\n",
       "50%       38.00000    180.000000      2.000000\n",
       "75%       47.00000    319.000000      3.000000\n",
       "max       98.00000   4918.000000     56.000000"
      ]
     },
     "execution_count": 185,
     "metadata": {},
     "output_type": "execute_result"
    }
   ],
   "source": [
    "df.describe()"
   ]
  },
  {
   "cell_type": "code",
   "execution_count": 186,
   "id": "9b5549f5",
   "metadata": {},
   "outputs": [
    {
     "data": {
      "text/html": [
       "<div>\n",
       "<style scoped>\n",
       "    .dataframe tbody tr th:only-of-type {\n",
       "        vertical-align: middle;\n",
       "    }\n",
       "\n",
       "    .dataframe tbody tr th {\n",
       "        vertical-align: top;\n",
       "    }\n",
       "\n",
       "    .dataframe thead th {\n",
       "        text-align: right;\n",
       "    }\n",
       "</style>\n",
       "<table border=\"1\" class=\"dataframe\">\n",
       "  <thead>\n",
       "    <tr style=\"text-align: right;\">\n",
       "      <th></th>\n",
       "      <th>job</th>\n",
       "      <th>marital</th>\n",
       "      <th>education</th>\n",
       "      <th>loan</th>\n",
       "      <th>day_of_week</th>\n",
       "      <th>month</th>\n",
       "      <th>converted</th>\n",
       "    </tr>\n",
       "  </thead>\n",
       "  <tbody>\n",
       "    <tr>\n",
       "      <th>count</th>\n",
       "      <td>41188</td>\n",
       "      <td>41188</td>\n",
       "      <td>41188</td>\n",
       "      <td>41188</td>\n",
       "      <td>41188</td>\n",
       "      <td>41188</td>\n",
       "      <td>41188</td>\n",
       "    </tr>\n",
       "    <tr>\n",
       "      <th>unique</th>\n",
       "      <td>12</td>\n",
       "      <td>4</td>\n",
       "      <td>8</td>\n",
       "      <td>3</td>\n",
       "      <td>5</td>\n",
       "      <td>10</td>\n",
       "      <td>2</td>\n",
       "    </tr>\n",
       "    <tr>\n",
       "      <th>top</th>\n",
       "      <td>admin.</td>\n",
       "      <td>married</td>\n",
       "      <td>university.degree</td>\n",
       "      <td>no</td>\n",
       "      <td>thu</td>\n",
       "      <td>may</td>\n",
       "      <td>no</td>\n",
       "    </tr>\n",
       "    <tr>\n",
       "      <th>freq</th>\n",
       "      <td>10422</td>\n",
       "      <td>24928</td>\n",
       "      <td>12168</td>\n",
       "      <td>33950</td>\n",
       "      <td>8623</td>\n",
       "      <td>13769</td>\n",
       "      <td>36548</td>\n",
       "    </tr>\n",
       "  </tbody>\n",
       "</table>\n",
       "</div>"
      ],
      "text/plain": [
       "           job  marital          education   loan day_of_week  month converted\n",
       "count    41188    41188              41188  41188       41188  41188     41188\n",
       "unique      12        4                  8      3           5     10         2\n",
       "top     admin.  married  university.degree     no         thu    may        no\n",
       "freq     10422    24928              12168  33950        8623  13769     36548"
      ]
     },
     "execution_count": 186,
     "metadata": {},
     "output_type": "execute_result"
    }
   ],
   "source": [
    "df.describe(exclude=np.number)"
   ]
  },
  {
   "cell_type": "code",
   "execution_count": 187,
   "id": "7105ee28",
   "metadata": {},
   "outputs": [
    {
     "data": {
      "text/plain": [
       "(41188, 10)"
      ]
     },
     "execution_count": 187,
     "metadata": {},
     "output_type": "execute_result"
    }
   ],
   "source": [
    "df.shape"
   ]
  },
  {
   "cell_type": "code",
   "execution_count": 188,
   "id": "521b6764",
   "metadata": {},
   "outputs": [
    {
     "data": {
      "text/plain": [
       "age             int64\n",
       "job            object\n",
       "marital        object\n",
       "education      object\n",
       "loan           object\n",
       "day_of_week    object\n",
       "month          object\n",
       "duration        int64\n",
       "campaign        int64\n",
       "converted      object\n",
       "dtype: object"
      ]
     },
     "execution_count": 188,
     "metadata": {},
     "output_type": "execute_result"
    }
   ],
   "source": [
    "df.dtypes"
   ]
  },
  {
   "cell_type": "code",
   "execution_count": 189,
   "id": "10a69be4",
   "metadata": {},
   "outputs": [],
   "source": [
    "# Převod z object na category\n",
    "\n",
    "for col in df.select_dtypes(include='object'):\n",
    "    df[col] = df[col].astype('category')"
   ]
  },
  {
   "cell_type": "code",
   "execution_count": 190,
   "id": "4d15b668",
   "metadata": {},
   "outputs": [
    {
     "data": {
      "text/plain": [
       "age               int64\n",
       "job            category\n",
       "marital        category\n",
       "education      category\n",
       "loan           category\n",
       "day_of_week    category\n",
       "month          category\n",
       "duration          int64\n",
       "campaign          int64\n",
       "converted      category\n",
       "dtype: object"
      ]
     },
     "execution_count": 190,
     "metadata": {},
     "output_type": "execute_result"
    }
   ],
   "source": [
    "df.dtypes"
   ]
  },
  {
   "cell_type": "code",
   "execution_count": 191,
   "id": "a2a55144",
   "metadata": {},
   "outputs": [
    {
     "name": "stdout",
     "output_type": "stream",
     "text": [
      "Počet hodnot ve sloupci: 'JOB':\n",
      "\n",
      "admin.           10422\n",
      "blue-collar       9254\n",
      "technician        6743\n",
      "services          3969\n",
      "management        2924\n",
      "retired           1720\n",
      "entrepreneur      1456\n",
      "self-employed     1421\n",
      "housemaid         1060\n",
      "unemployed        1014\n",
      "student            875\n",
      "unknown            330\n",
      "Name: job, dtype: int64\n",
      "______________________________________\n",
      "\n",
      "Počet hodnot ve sloupci: 'MARITAL':\n",
      "\n",
      "married     24928\n",
      "single      11568\n",
      "divorced     4612\n",
      "unknown        80\n",
      "Name: marital, dtype: int64\n",
      "______________________________________\n",
      "\n",
      "Počet hodnot ve sloupci: 'EDUCATION':\n",
      "\n",
      "university.degree      12168\n",
      "high.school             9515\n",
      "basic.9y                6045\n",
      "professional.course     5243\n",
      "basic.4y                4176\n",
      "basic.6y                2292\n",
      "unknown                 1731\n",
      "illiterate                18\n",
      "Name: education, dtype: int64\n",
      "______________________________________\n",
      "\n",
      "Počet hodnot ve sloupci: 'LOAN':\n",
      "\n",
      "no         33950\n",
      "yes         6248\n",
      "unknown      990\n",
      "Name: loan, dtype: int64\n",
      "______________________________________\n",
      "\n",
      "Počet hodnot ve sloupci: 'DAY_OF_WEEK':\n",
      "\n",
      "thu    8623\n",
      "mon    8514\n",
      "wed    8134\n",
      "tue    8090\n",
      "fri    7827\n",
      "Name: day_of_week, dtype: int64\n",
      "______________________________________\n",
      "\n",
      "Počet hodnot ve sloupci: 'MONTH':\n",
      "\n",
      "may    13769\n",
      "jul     7174\n",
      "aug     6178\n",
      "jun     5318\n",
      "nov     4101\n",
      "apr     2632\n",
      "oct      718\n",
      "sep      570\n",
      "mar      546\n",
      "dec      182\n",
      "Name: month, dtype: int64\n",
      "______________________________________\n",
      "\n",
      "Počet hodnot ve sloupci: 'CONVERTED':\n",
      "\n",
      "no     36548\n",
      "yes     4640\n",
      "Name: converted, dtype: int64\n",
      "______________________________________\n",
      "\n"
     ]
    }
   ],
   "source": [
    "for col in df.select_dtypes(include='category',):\n",
    "    print(f\"Počet hodnot ve sloupci: '{col.upper()}':\\n\")\n",
    "    print(df[col].value_counts())\n",
    "    print(\"______________________________________\\n\")"
   ]
  },
  {
   "cell_type": "code",
   "execution_count": 192,
   "id": "bf23ecde",
   "metadata": {},
   "outputs": [
    {
     "data": {
      "text/plain": [
       "age            False\n",
       "job             True\n",
       "marital         True\n",
       "education       True\n",
       "loan            True\n",
       "day_of_week    False\n",
       "month          False\n",
       "duration       False\n",
       "campaign       False\n",
       "converted      False\n",
       "dtype: bool"
      ]
     },
     "execution_count": 192,
     "metadata": {},
     "output_type": "execute_result"
    }
   ],
   "source": [
    "unknown_values = df.applymap(lambda x: 'unknown' in str(x))\n",
    "unknown_values.any()"
   ]
  },
  {
   "cell_type": "markdown",
   "id": "08c06471",
   "metadata": {},
   "source": [
    "- V datasetu se nachází \"unknown\" hodnoty, která nahradíme NaN a následně z datasetu smažeme."
   ]
  },
  {
   "cell_type": "code",
   "execution_count": 193,
   "id": "60f96d41",
   "metadata": {},
   "outputs": [],
   "source": [
    "df.replace('unknown', np.nan, inplace=True)"
   ]
  },
  {
   "cell_type": "code",
   "execution_count": 194,
   "id": "cefa405b",
   "metadata": {},
   "outputs": [],
   "source": [
    "df.dropna(how='any',inplace=True)"
   ]
  },
  {
   "cell_type": "code",
   "execution_count": 195,
   "id": "05d07357",
   "metadata": {},
   "outputs": [
    {
     "data": {
      "text/plain": [
       "(38245, 10)"
      ]
     },
     "execution_count": 195,
     "metadata": {},
     "output_type": "execute_result"
    }
   ],
   "source": [
    "df.shape"
   ]
  },
  {
   "cell_type": "code",
   "execution_count": 196,
   "id": "b2b0927a",
   "metadata": {
    "scrolled": false
   },
   "outputs": [
    {
     "name": "stdout",
     "output_type": "stream",
     "text": [
      "Unikátní kategorické hodnoty ve sloupci: 'JOB':\n",
      "\n",
      "['housemaid' 'services' 'admin.' 'technician' 'blue-collar' 'retired'\n",
      " 'management' 'unemployed' 'self-employed' 'entrepreneur' 'student']\n",
      "_____________________________________________________________________\n",
      "\n",
      "Unikátní kategorické hodnoty ve sloupci: 'MARITAL':\n",
      "\n",
      "['married' 'single' 'divorced']\n",
      "_____________________________________________________________________\n",
      "\n",
      "Unikátní kategorické hodnoty ve sloupci: 'EDUCATION':\n",
      "\n",
      "['basic.4y' 'high.school' 'basic.6y' 'basic.9y' 'professional.course'\n",
      " 'university.degree' 'illiterate']\n",
      "_____________________________________________________________________\n",
      "\n",
      "Unikátní kategorické hodnoty ve sloupci: 'LOAN':\n",
      "\n",
      "['no' 'yes']\n",
      "_____________________________________________________________________\n",
      "\n",
      "Unikátní kategorické hodnoty ve sloupci: 'DAY_OF_WEEK':\n",
      "\n",
      "['mon' 'tue' 'wed' 'thu' 'fri']\n",
      "_____________________________________________________________________\n",
      "\n",
      "Unikátní kategorické hodnoty ve sloupci: 'MONTH':\n",
      "\n",
      "['may' 'jun' 'jul' 'aug' 'oct' 'nov' 'dec' 'mar' 'apr' 'sep']\n",
      "_____________________________________________________________________\n",
      "\n",
      "Unikátní kategorické hodnoty ve sloupci: 'CONVERTED':\n",
      "\n",
      "['no' 'yes']\n",
      "_____________________________________________________________________\n",
      "\n"
     ]
    }
   ],
   "source": [
    "for col in df.select_dtypes(include='category'):\n",
    "    print(f\"Unikátní kategorické hodnoty ve sloupci: '{col.upper()}':\\n\")\n",
    "    print(df[col].astype(str).unique())\n",
    "    print(\"_____________________________________________________________________\\n\")"
   ]
  },
  {
   "cell_type": "markdown",
   "id": "71366f7d",
   "metadata": {},
   "source": [
    "#### Skewness"
   ]
  },
  {
   "cell_type": "code",
   "execution_count": 197,
   "id": "ac128728",
   "metadata": {},
   "outputs": [
    {
     "data": {
      "text/plain": [
       "age         0.804117\n",
       "duration    3.297411\n",
       "campaign    4.719537\n",
       "dtype: float64"
      ]
     },
     "execution_count": 197,
     "metadata": {},
     "output_type": "execute_result"
    }
   ],
   "source": [
    "df.skew(numeric_only=True)"
   ]
  },
  {
   "cell_type": "markdown",
   "id": "ea4c2881",
   "metadata": {},
   "source": [
    "- Šikmost numerických dat je větší než 0, data jsou pravostranně sešikmená. Většina hodnot je soustředěna na levé straně grafu a pravý ocas je delší než levý ocas. Distribuce dat je nesymetrická."
   ]
  },
  {
   "cell_type": "markdown",
   "id": "27e74576",
   "metadata": {},
   "source": [
    "#### Missing values"
   ]
  },
  {
   "cell_type": "code",
   "execution_count": 198,
   "id": "c077a801",
   "metadata": {},
   "outputs": [
    {
     "data": {
      "text/plain": [
       "age            0\n",
       "job            0\n",
       "marital        0\n",
       "education      0\n",
       "loan           0\n",
       "day_of_week    0\n",
       "month          0\n",
       "duration       0\n",
       "campaign       0\n",
       "converted      0\n",
       "dtype: int64"
      ]
     },
     "execution_count": 198,
     "metadata": {},
     "output_type": "execute_result"
    }
   ],
   "source": [
    "df.isna().sum()"
   ]
  },
  {
   "cell_type": "markdown",
   "id": "fd49947c",
   "metadata": {},
   "source": [
    "- V datasetu se nenachází žádná chybějící data."
   ]
  },
  {
   "cell_type": "markdown",
   "id": "34183bfc",
   "metadata": {},
   "source": [
    "#### Duplicates"
   ]
  },
  {
   "cell_type": "code",
   "execution_count": 199,
   "id": "ffdfc728",
   "metadata": {},
   "outputs": [
    {
     "data": {
      "text/plain": [
       "32"
      ]
     },
     "execution_count": 199,
     "metadata": {},
     "output_type": "execute_result"
    }
   ],
   "source": [
    "df.duplicated().sum()"
   ]
  },
  {
   "cell_type": "code",
   "execution_count": 200,
   "id": "3fa2ccb8",
   "metadata": {},
   "outputs": [],
   "source": [
    "df.drop_duplicates(inplace=True)"
   ]
  },
  {
   "cell_type": "code",
   "execution_count": 201,
   "id": "502c2c7d",
   "metadata": {},
   "outputs": [
    {
     "data": {
      "text/plain": [
       "0"
      ]
     },
     "execution_count": 201,
     "metadata": {},
     "output_type": "execute_result"
    }
   ],
   "source": [
    "df.duplicated().sum()"
   ]
  },
  {
   "cell_type": "markdown",
   "id": "fae191ce",
   "metadata": {},
   "source": [
    "- Duplicitní záznamy odstraněny"
   ]
  },
  {
   "cell_type": "markdown",
   "id": "e0b0dfbe",
   "metadata": {},
   "source": [
    "#### Statistical Summary"
   ]
  },
  {
   "cell_type": "code",
   "execution_count": 134,
   "id": "a34f527c",
   "metadata": {},
   "outputs": [
    {
     "data": {
      "text/html": [
       "<div>\n",
       "<style scoped>\n",
       "    .dataframe tbody tr th:only-of-type {\n",
       "        vertical-align: middle;\n",
       "    }\n",
       "\n",
       "    .dataframe tbody tr th {\n",
       "        vertical-align: top;\n",
       "    }\n",
       "\n",
       "    .dataframe thead th {\n",
       "        text-align: right;\n",
       "    }\n",
       "</style>\n",
       "<table border=\"1\" class=\"dataframe\">\n",
       "  <thead>\n",
       "    <tr style=\"text-align: right;\">\n",
       "      <th></th>\n",
       "      <th>age</th>\n",
       "      <th>job</th>\n",
       "      <th>marital</th>\n",
       "      <th>education</th>\n",
       "      <th>loan</th>\n",
       "      <th>day_of_week</th>\n",
       "      <th>month</th>\n",
       "      <th>duration</th>\n",
       "      <th>campaign</th>\n",
       "      <th>converted</th>\n",
       "    </tr>\n",
       "  </thead>\n",
       "  <tbody>\n",
       "    <tr>\n",
       "      <th>count</th>\n",
       "      <td>38213.000000</td>\n",
       "      <td>38213</td>\n",
       "      <td>38213</td>\n",
       "      <td>38213</td>\n",
       "      <td>38213</td>\n",
       "      <td>38213</td>\n",
       "      <td>38213</td>\n",
       "      <td>38213.000000</td>\n",
       "      <td>38213.000000</td>\n",
       "      <td>38213</td>\n",
       "    </tr>\n",
       "    <tr>\n",
       "      <th>unique</th>\n",
       "      <td>NaN</td>\n",
       "      <td>11</td>\n",
       "      <td>3</td>\n",
       "      <td>7</td>\n",
       "      <td>2</td>\n",
       "      <td>5</td>\n",
       "      <td>10</td>\n",
       "      <td>NaN</td>\n",
       "      <td>NaN</td>\n",
       "      <td>2</td>\n",
       "    </tr>\n",
       "    <tr>\n",
       "      <th>top</th>\n",
       "      <td>NaN</td>\n",
       "      <td>admin.</td>\n",
       "      <td>married</td>\n",
       "      <td>university.degree</td>\n",
       "      <td>no</td>\n",
       "      <td>thu</td>\n",
       "      <td>may</td>\n",
       "      <td>NaN</td>\n",
       "      <td>NaN</td>\n",
       "      <td>no</td>\n",
       "    </tr>\n",
       "    <tr>\n",
       "      <th>freq</th>\n",
       "      <td>NaN</td>\n",
       "      <td>9929</td>\n",
       "      <td>23161</td>\n",
       "      <td>11812</td>\n",
       "      <td>32255</td>\n",
       "      <td>7999</td>\n",
       "      <td>12780</td>\n",
       "      <td>NaN</td>\n",
       "      <td>NaN</td>\n",
       "      <td>33956</td>\n",
       "    </tr>\n",
       "    <tr>\n",
       "      <th>mean</th>\n",
       "      <td>39.862874</td>\n",
       "      <td>NaN</td>\n",
       "      <td>NaN</td>\n",
       "      <td>NaN</td>\n",
       "      <td>NaN</td>\n",
       "      <td>NaN</td>\n",
       "      <td>NaN</td>\n",
       "      <td>258.293617</td>\n",
       "      <td>2.567582</td>\n",
       "      <td>NaN</td>\n",
       "    </tr>\n",
       "    <tr>\n",
       "      <th>std</th>\n",
       "      <td>10.289652</td>\n",
       "      <td>NaN</td>\n",
       "      <td>NaN</td>\n",
       "      <td>NaN</td>\n",
       "      <td>NaN</td>\n",
       "      <td>NaN</td>\n",
       "      <td>NaN</td>\n",
       "      <td>259.872474</td>\n",
       "      <td>2.768327</td>\n",
       "      <td>NaN</td>\n",
       "    </tr>\n",
       "    <tr>\n",
       "      <th>min</th>\n",
       "      <td>17.000000</td>\n",
       "      <td>NaN</td>\n",
       "      <td>NaN</td>\n",
       "      <td>NaN</td>\n",
       "      <td>NaN</td>\n",
       "      <td>NaN</td>\n",
       "      <td>NaN</td>\n",
       "      <td>0.000000</td>\n",
       "      <td>1.000000</td>\n",
       "      <td>NaN</td>\n",
       "    </tr>\n",
       "    <tr>\n",
       "      <th>25%</th>\n",
       "      <td>32.000000</td>\n",
       "      <td>NaN</td>\n",
       "      <td>NaN</td>\n",
       "      <td>NaN</td>\n",
       "      <td>NaN</td>\n",
       "      <td>NaN</td>\n",
       "      <td>NaN</td>\n",
       "      <td>102.000000</td>\n",
       "      <td>1.000000</td>\n",
       "      <td>NaN</td>\n",
       "    </tr>\n",
       "    <tr>\n",
       "      <th>50%</th>\n",
       "      <td>38.000000</td>\n",
       "      <td>NaN</td>\n",
       "      <td>NaN</td>\n",
       "      <td>NaN</td>\n",
       "      <td>NaN</td>\n",
       "      <td>NaN</td>\n",
       "      <td>NaN</td>\n",
       "      <td>180.000000</td>\n",
       "      <td>2.000000</td>\n",
       "      <td>NaN</td>\n",
       "    </tr>\n",
       "    <tr>\n",
       "      <th>75%</th>\n",
       "      <td>47.000000</td>\n",
       "      <td>NaN</td>\n",
       "      <td>NaN</td>\n",
       "      <td>NaN</td>\n",
       "      <td>NaN</td>\n",
       "      <td>NaN</td>\n",
       "      <td>NaN</td>\n",
       "      <td>319.000000</td>\n",
       "      <td>3.000000</td>\n",
       "      <td>NaN</td>\n",
       "    </tr>\n",
       "    <tr>\n",
       "      <th>max</th>\n",
       "      <td>98.000000</td>\n",
       "      <td>NaN</td>\n",
       "      <td>NaN</td>\n",
       "      <td>NaN</td>\n",
       "      <td>NaN</td>\n",
       "      <td>NaN</td>\n",
       "      <td>NaN</td>\n",
       "      <td>4918.000000</td>\n",
       "      <td>43.000000</td>\n",
       "      <td>NaN</td>\n",
       "    </tr>\n",
       "  </tbody>\n",
       "</table>\n",
       "</div>"
      ],
      "text/plain": [
       "                 age     job  marital          education   loan day_of_week  \\\n",
       "count   38213.000000   38213    38213              38213  38213       38213   \n",
       "unique           NaN      11        3                  7      2           5   \n",
       "top              NaN  admin.  married  university.degree     no         thu   \n",
       "freq             NaN    9929    23161              11812  32255        7999   \n",
       "mean       39.862874     NaN      NaN                NaN    NaN         NaN   \n",
       "std        10.289652     NaN      NaN                NaN    NaN         NaN   \n",
       "min        17.000000     NaN      NaN                NaN    NaN         NaN   \n",
       "25%        32.000000     NaN      NaN                NaN    NaN         NaN   \n",
       "50%        38.000000     NaN      NaN                NaN    NaN         NaN   \n",
       "75%        47.000000     NaN      NaN                NaN    NaN         NaN   \n",
       "max        98.000000     NaN      NaN                NaN    NaN         NaN   \n",
       "\n",
       "        month      duration      campaign converted  \n",
       "count   38213  38213.000000  38213.000000     38213  \n",
       "unique     10           NaN           NaN         2  \n",
       "top       may           NaN           NaN        no  \n",
       "freq    12780           NaN           NaN     33956  \n",
       "mean      NaN    258.293617      2.567582       NaN  \n",
       "std       NaN    259.872474      2.768327       NaN  \n",
       "min       NaN      0.000000      1.000000       NaN  \n",
       "25%       NaN    102.000000      1.000000       NaN  \n",
       "50%       NaN    180.000000      2.000000       NaN  \n",
       "75%       NaN    319.000000      3.000000       NaN  \n",
       "max       NaN   4918.000000     43.000000       NaN  "
      ]
     },
     "execution_count": 134,
     "metadata": {},
     "output_type": "execute_result"
    }
   ],
   "source": [
    "df.describe(include=\"all\")"
   ]
  },
  {
   "cell_type": "markdown",
   "id": "67a688c5",
   "metadata": {},
   "source": [
    "#### Outliers"
   ]
  },
  {
   "cell_type": "markdown",
   "id": "7de39be7",
   "metadata": {},
   "source": [
    "Zdá se, že v datasetu najdeme spoustu odlehlých hodnot. Pokud se zaměříme na dobu trvání hovoru (duration), tak si v tabulce můžeme všimnou u maximální hodnoty hodnoty 4918 sekund, což je přibližně 82 minut. Medián telefonních hovorů je přibližně 3 minuty. Tyto odlehlé hodnoty se pokusíme zredukovat. "
   ]
  },
  {
   "cell_type": "code",
   "execution_count": 135,
   "id": "923ec141",
   "metadata": {},
   "outputs": [
    {
     "data": {
      "text/plain": [
       "<seaborn.axisgrid.FacetGrid at 0x135706350>"
      ]
     },
     "execution_count": 135,
     "metadata": {},
     "output_type": "execute_result"
    },
    {
     "data": {
      "image/png": "[encoded data removed]",
      "text/plain": [
       "<Figure size 500x500 with 1 Axes>"
      ]
     },
     "metadata": {},
     "output_type": "display_data"
    }
   ],
   "source": [
    "sns.displot(df[\"duration\"])"
   ]
  },
  {
   "cell_type": "code",
   "execution_count": 136,
   "id": "cb14f4ef",
   "metadata": {},
   "outputs": [
    {
     "data": {
      "text/plain": [
       "<Axes: >"
      ]
     },
     "execution_count": 136,
     "metadata": {},
     "output_type": "execute_result"
    },
    {
     "data": {
      "image/png": "[encoded data removed]",
      "text/plain": [
       "<Figure size 640x480 with 1 Axes>"
      ]
     },
     "metadata": {},
     "output_type": "display_data"
    }
   ],
   "source": [
    "sns.boxplot(df[\"duration\"])"
   ]
  },
  {
   "cell_type": "code",
   "execution_count": 137,
   "id": "e5d6bc8b",
   "metadata": {},
   "outputs": [],
   "source": [
    "upper_limit = df[\"duration\"].mean() + 3*df[\"duration\"].std()"
   ]
  },
  {
   "cell_type": "code",
   "execution_count": 138,
   "id": "a1def241",
   "metadata": {},
   "outputs": [],
   "source": [
    "lower_limit = df[\"duration\"].mean() - 3*df[\"duration\"].std()"
   ]
  },
  {
   "cell_type": "code",
   "execution_count": 139,
   "id": "71b0e2c1",
   "metadata": {},
   "outputs": [
    {
     "name": "stdout",
     "output_type": "stream",
     "text": [
      "1037.9110379055828\n",
      "-521.3238031948824\n"
     ]
    }
   ],
   "source": [
    "print(upper_limit)\n",
    "print(lower_limit)"
   ]
  },
  {
   "cell_type": "code",
   "execution_count": 140,
   "id": "99a454ca",
   "metadata": {},
   "outputs": [
    {
     "data": {
      "text/html": [
       "<div>\n",
       "<style scoped>\n",
       "    .dataframe tbody tr th:only-of-type {\n",
       "        vertical-align: middle;\n",
       "    }\n",
       "\n",
       "    .dataframe tbody tr th {\n",
       "        vertical-align: top;\n",
       "    }\n",
       "\n",
       "    .dataframe thead th {\n",
       "        text-align: right;\n",
       "    }\n",
       "</style>\n",
       "<table border=\"1\" class=\"dataframe\">\n",
       "  <thead>\n",
       "    <tr style=\"text-align: right;\">\n",
       "      <th></th>\n",
       "      <th>age</th>\n",
       "      <th>job</th>\n",
       "      <th>marital</th>\n",
       "      <th>education</th>\n",
       "      <th>loan</th>\n",
       "      <th>day_of_week</th>\n",
       "      <th>month</th>\n",
       "      <th>duration</th>\n",
       "      <th>campaign</th>\n",
       "      <th>converted</th>\n",
       "    </tr>\n",
       "  </thead>\n",
       "  <tbody>\n",
       "    <tr>\n",
       "      <th>37</th>\n",
       "      <td>52</td>\n",
       "      <td>technician</td>\n",
       "      <td>married</td>\n",
       "      <td>basic.9y</td>\n",
       "      <td>no</td>\n",
       "      <td>mon</td>\n",
       "      <td>may</td>\n",
       "      <td>1666</td>\n",
       "      <td>1</td>\n",
       "      <td>no</td>\n",
       "    </tr>\n",
       "    <tr>\n",
       "      <th>75</th>\n",
       "      <td>41</td>\n",
       "      <td>blue-collar</td>\n",
       "      <td>divorced</td>\n",
       "      <td>basic.4y</td>\n",
       "      <td>no</td>\n",
       "      <td>mon</td>\n",
       "      <td>may</td>\n",
       "      <td>1575</td>\n",
       "      <td>1</td>\n",
       "      <td>yes</td>\n",
       "    </tr>\n",
       "    <tr>\n",
       "      <th>83</th>\n",
       "      <td>49</td>\n",
       "      <td>entrepreneur</td>\n",
       "      <td>married</td>\n",
       "      <td>university.degree</td>\n",
       "      <td>no</td>\n",
       "      <td>mon</td>\n",
       "      <td>may</td>\n",
       "      <td>1042</td>\n",
       "      <td>1</td>\n",
       "      <td>yes</td>\n",
       "    </tr>\n",
       "    <tr>\n",
       "      <th>88</th>\n",
       "      <td>49</td>\n",
       "      <td>technician</td>\n",
       "      <td>married</td>\n",
       "      <td>basic.9y</td>\n",
       "      <td>no</td>\n",
       "      <td>mon</td>\n",
       "      <td>may</td>\n",
       "      <td>1467</td>\n",
       "      <td>1</td>\n",
       "      <td>yes</td>\n",
       "    </tr>\n",
       "    <tr>\n",
       "      <th>164</th>\n",
       "      <td>39</td>\n",
       "      <td>services</td>\n",
       "      <td>divorced</td>\n",
       "      <td>high.school</td>\n",
       "      <td>no</td>\n",
       "      <td>mon</td>\n",
       "      <td>may</td>\n",
       "      <td>2033</td>\n",
       "      <td>1</td>\n",
       "      <td>no</td>\n",
       "    </tr>\n",
       "    <tr>\n",
       "      <th>...</th>\n",
       "      <td>...</td>\n",
       "      <td>...</td>\n",
       "      <td>...</td>\n",
       "      <td>...</td>\n",
       "      <td>...</td>\n",
       "      <td>...</td>\n",
       "      <td>...</td>\n",
       "      <td>...</td>\n",
       "      <td>...</td>\n",
       "      <td>...</td>\n",
       "    </tr>\n",
       "    <tr>\n",
       "      <th>40880</th>\n",
       "      <td>28</td>\n",
       "      <td>admin.</td>\n",
       "      <td>single</td>\n",
       "      <td>high.school</td>\n",
       "      <td>no</td>\n",
       "      <td>wed</td>\n",
       "      <td>oct</td>\n",
       "      <td>1246</td>\n",
       "      <td>2</td>\n",
       "      <td>yes</td>\n",
       "    </tr>\n",
       "    <tr>\n",
       "      <th>40970</th>\n",
       "      <td>24</td>\n",
       "      <td>admin.</td>\n",
       "      <td>single</td>\n",
       "      <td>university.degree</td>\n",
       "      <td>no</td>\n",
       "      <td>fri</td>\n",
       "      <td>oct</td>\n",
       "      <td>1176</td>\n",
       "      <td>3</td>\n",
       "      <td>yes</td>\n",
       "    </tr>\n",
       "    <tr>\n",
       "      <th>41121</th>\n",
       "      <td>46</td>\n",
       "      <td>admin.</td>\n",
       "      <td>single</td>\n",
       "      <td>university.degree</td>\n",
       "      <td>no</td>\n",
       "      <td>tue</td>\n",
       "      <td>nov</td>\n",
       "      <td>1166</td>\n",
       "      <td>3</td>\n",
       "      <td>no</td>\n",
       "    </tr>\n",
       "    <tr>\n",
       "      <th>41123</th>\n",
       "      <td>36</td>\n",
       "      <td>blue-collar</td>\n",
       "      <td>single</td>\n",
       "      <td>basic.6y</td>\n",
       "      <td>no</td>\n",
       "      <td>tue</td>\n",
       "      <td>nov</td>\n",
       "      <td>1556</td>\n",
       "      <td>4</td>\n",
       "      <td>yes</td>\n",
       "    </tr>\n",
       "    <tr>\n",
       "      <th>41164</th>\n",
       "      <td>54</td>\n",
       "      <td>admin.</td>\n",
       "      <td>married</td>\n",
       "      <td>professional.course</td>\n",
       "      <td>no</td>\n",
       "      <td>tue</td>\n",
       "      <td>nov</td>\n",
       "      <td>1868</td>\n",
       "      <td>2</td>\n",
       "      <td>yes</td>\n",
       "    </tr>\n",
       "  </tbody>\n",
       "</table>\n",
       "<p>795 rows × 10 columns</p>\n",
       "</div>"
      ],
      "text/plain": [
       "       age           job   marital            education loan day_of_week  \\\n",
       "37      52    technician   married             basic.9y   no         mon   \n",
       "75      41   blue-collar  divorced             basic.4y   no         mon   \n",
       "83      49  entrepreneur   married    university.degree   no         mon   \n",
       "88      49    technician   married             basic.9y   no         mon   \n",
       "164     39      services  divorced          high.school   no         mon   \n",
       "...    ...           ...       ...                  ...  ...         ...   \n",
       "40880   28        admin.    single          high.school   no         wed   \n",
       "40970   24        admin.    single    university.degree   no         fri   \n",
       "41121   46        admin.    single    university.degree   no         tue   \n",
       "41123   36   blue-collar    single             basic.6y   no         tue   \n",
       "41164   54        admin.   married  professional.course   no         tue   \n",
       "\n",
       "      month  duration  campaign converted  \n",
       "37      may      1666         1        no  \n",
       "75      may      1575         1       yes  \n",
       "83      may      1042         1       yes  \n",
       "88      may      1467         1       yes  \n",
       "164     may      2033         1        no  \n",
       "...     ...       ...       ...       ...  \n",
       "40880   oct      1246         2       yes  \n",
       "40970   oct      1176         3       yes  \n",
       "41121   nov      1166         3        no  \n",
       "41123   nov      1556         4       yes  \n",
       "41164   nov      1868         2       yes  \n",
       "\n",
       "[795 rows x 10 columns]"
      ]
     },
     "execution_count": 140,
     "metadata": {},
     "output_type": "execute_result"
    }
   ],
   "source": [
    "df.loc[(df[\"duration\"] > upper_limit) | (df[\"duration\"] < lower_limit)]"
   ]
  },
  {
   "cell_type": "code",
   "execution_count": 141,
   "id": "e8b38f72",
   "metadata": {},
   "outputs": [],
   "source": [
    "duration_df = df.loc[(df[\"duration\"] < upper_limit) & (df[\"duration\"] > lower_limit)]"
   ]
  },
  {
   "cell_type": "code",
   "execution_count": 142,
   "id": "274842a9",
   "metadata": {},
   "outputs": [
    {
     "data": {
      "text/plain": [
       "<seaborn.axisgrid.FacetGrid at 0x13582a4d0>"
      ]
     },
     "execution_count": 142,
     "metadata": {},
     "output_type": "execute_result"
    },
    {
     "data": {
      "image/png": "[encoded data removed]",
      "text/plain": [
       "<Figure size 500x500 with 1 Axes>"
      ]
     },
     "metadata": {},
     "output_type": "display_data"
    }
   ],
   "source": [
    "sns.displot(duration_df[\"duration\"])"
   ]
  },
  {
   "cell_type": "code",
   "execution_count": 143,
   "id": "f70a3e7c",
   "metadata": {},
   "outputs": [
    {
     "data": {
      "text/plain": [
       "<Axes: >"
      ]
     },
     "execution_count": 143,
     "metadata": {},
     "output_type": "execute_result"
    },
    {
     "data": {
      "image/png": "[encoded data removed]",
      "text/plain": [
       "<Figure size 640x480 with 1 Axes>"
      ]
     },
     "metadata": {},
     "output_type": "display_data"
    }
   ],
   "source": [
    "sns.boxplot(duration_df[\"duration\"])"
   ]
  },
  {
   "cell_type": "markdown",
   "id": "7fd09122",
   "metadata": {},
   "source": [
    "# Explorativní analýza dat"
   ]
  },
  {
   "cell_type": "markdown",
   "id": "a98fbd84",
   "metadata": {},
   "source": [
    "## 1.0 Age"
   ]
  },
  {
   "cell_type": "code",
   "execution_count": 144,
   "id": "025f7648",
   "metadata": {},
   "outputs": [
    {
     "data": {
      "text/plain": [
       "<Axes: xlabel='age', ylabel='Count'>"
      ]
     },
     "execution_count": 144,
     "metadata": {},
     "output_type": "execute_result"
    },
    {
     "data": {
      "image/png": "[encoded data removed]",
      "text/plain": [
       "<Figure size 640x480 with 1 Axes>"
      ]
     },
     "metadata": {},
     "output_type": "display_data"
    }
   ],
   "source": [
    "sns.histplot(df['age'], bins=40, kde=True, linewidth=0.1)"
   ]
  },
  {
   "cell_type": "code",
   "execution_count": 145,
   "id": "80dea7e1",
   "metadata": {},
   "outputs": [
    {
     "data": {
      "text/plain": [
       "0.8037021317459829"
      ]
     },
     "execution_count": 145,
     "metadata": {},
     "output_type": "execute_result"
    }
   ],
   "source": [
    "df[\"age\"].skew()"
   ]
  },
  {
   "cell_type": "code",
   "execution_count": 146,
   "id": "c4a5b35b",
   "metadata": {},
   "outputs": [
    {
     "data": {
      "text/plain": [
       "38.0"
      ]
     },
     "execution_count": 146,
     "metadata": {},
     "output_type": "execute_result"
    }
   ],
   "source": [
    "df.age.median()"
   ]
  },
  {
   "cell_type": "markdown",
   "id": "47ffd71e",
   "metadata": {},
   "source": [
    "Medián věku je 38 let."
   ]
  },
  {
   "cell_type": "code",
   "execution_count": 147,
   "id": "d35996c8",
   "metadata": {},
   "outputs": [
    {
     "data": {
      "text/plain": [
       "count    38213.0\n",
       "mean        40.0\n",
       "std         10.0\n",
       "min         17.0\n",
       "25%         32.0\n",
       "50%         38.0\n",
       "75%         47.0\n",
       "max         98.0\n",
       "Name: age, dtype: float64"
      ]
     },
     "execution_count": 147,
     "metadata": {},
     "output_type": "execute_result"
    }
   ],
   "source": [
    "round(df.age.describe())"
   ]
  },
  {
   "cell_type": "markdown",
   "id": "a45ea237",
   "metadata": {},
   "source": [
    "- Minimální věk: 17\n",
    "- Maximální věk: 98\n",
    "- Průměrný věk: 40\n",
    "- až 75 % lidí má věk menší nebo rovný 47 let.\n",
    "- Asymetrické rozdělení. Průměr je větší než medián.\n",
    "- Graf nám ukazuje přítomnost odlehlých hodnot, které mají vliv na průměr a šikmost."
   ]
  },
  {
   "cell_type": "code",
   "execution_count": 148,
   "id": "06659211",
   "metadata": {},
   "outputs": [
    {
     "data": {
      "text/html": [
       "<div>\n",
       "<style scoped>\n",
       "    .dataframe tbody tr th:only-of-type {\n",
       "        vertical-align: middle;\n",
       "    }\n",
       "\n",
       "    .dataframe tbody tr th {\n",
       "        vertical-align: top;\n",
       "    }\n",
       "\n",
       "    .dataframe thead th {\n",
       "        text-align: right;\n",
       "    }\n",
       "</style>\n",
       "<table border=\"1\" class=\"dataframe\">\n",
       "  <thead>\n",
       "    <tr style=\"text-align: right;\">\n",
       "      <th></th>\n",
       "      <th>converted</th>\n",
       "    </tr>\n",
       "    <tr>\n",
       "      <th>age</th>\n",
       "      <th></th>\n",
       "    </tr>\n",
       "  </thead>\n",
       "  <tbody>\n",
       "    <tr>\n",
       "      <th>33</th>\n",
       "      <td>205</td>\n",
       "    </tr>\n",
       "    <tr>\n",
       "      <th>31</th>\n",
       "      <td>205</td>\n",
       "    </tr>\n",
       "    <tr>\n",
       "      <th>30</th>\n",
       "      <td>188</td>\n",
       "    </tr>\n",
       "    <tr>\n",
       "      <th>29</th>\n",
       "      <td>179</td>\n",
       "    </tr>\n",
       "    <tr>\n",
       "      <th>34</th>\n",
       "      <td>176</td>\n",
       "    </tr>\n",
       "    <tr>\n",
       "      <th>...</th>\n",
       "      <td>...</td>\n",
       "    </tr>\n",
       "    <tr>\n",
       "      <th>86</th>\n",
       "      <td>3</td>\n",
       "    </tr>\n",
       "    <tr>\n",
       "      <th>84</th>\n",
       "      <td>2</td>\n",
       "    </tr>\n",
       "    <tr>\n",
       "      <th>89</th>\n",
       "      <td>2</td>\n",
       "    </tr>\n",
       "    <tr>\n",
       "      <th>98</th>\n",
       "      <td>2</td>\n",
       "    </tr>\n",
       "    <tr>\n",
       "      <th>87</th>\n",
       "      <td>1</td>\n",
       "    </tr>\n",
       "  </tbody>\n",
       "</table>\n",
       "<p>73 rows × 1 columns</p>\n",
       "</div>"
      ],
      "text/plain": [
       "     converted\n",
       "age           \n",
       "33         205\n",
       "31         205\n",
       "30         188\n",
       "29         179\n",
       "34         176\n",
       "..         ...\n",
       "86           3\n",
       "84           2\n",
       "89           2\n",
       "98           2\n",
       "87           1\n",
       "\n",
       "[73 rows x 1 columns]"
      ]
     },
     "execution_count": 148,
     "metadata": {},
     "output_type": "execute_result"
    }
   ],
   "source": [
    "(df[df['converted'] == 'yes'].pivot_table(values=['converted'], index='age', aggfunc='count')\n",
    "                             .sort_values(by='converted', ascending=False))\n"
   ]
  },
  {
   "cell_type": "markdown",
   "id": "675c9536",
   "metadata": {},
   "source": [
    "- Nejvíce konverzí (205) bylo zaznamenáno u lidí s věkem 33 a 31 let."
   ]
  },
  {
   "cell_type": "code",
   "execution_count": 149,
   "id": "6915f918",
   "metadata": {},
   "outputs": [
    {
     "data": {
      "text/html": [
       "<div>\n",
       "<style scoped>\n",
       "    .dataframe tbody tr th:only-of-type {\n",
       "        vertical-align: middle;\n",
       "    }\n",
       "\n",
       "    .dataframe tbody tr th {\n",
       "        vertical-align: top;\n",
       "    }\n",
       "\n",
       "    .dataframe thead tr th {\n",
       "        text-align: left;\n",
       "    }\n",
       "\n",
       "    .dataframe thead tr:last-of-type th {\n",
       "        text-align: right;\n",
       "    }\n",
       "</style>\n",
       "<table border=\"1\" class=\"dataframe\">\n",
       "  <thead>\n",
       "    <tr>\n",
       "      <th></th>\n",
       "      <th>count</th>\n",
       "    </tr>\n",
       "    <tr>\n",
       "      <th></th>\n",
       "      <th>converted</th>\n",
       "    </tr>\n",
       "    <tr>\n",
       "      <th>age_group</th>\n",
       "      <th></th>\n",
       "    </tr>\n",
       "  </thead>\n",
       "  <tbody>\n",
       "    <tr>\n",
       "      <th>17-20</th>\n",
       "      <td>16</td>\n",
       "    </tr>\n",
       "    <tr>\n",
       "      <th>21-30</th>\n",
       "      <td>809</td>\n",
       "    </tr>\n",
       "    <tr>\n",
       "      <th>31-40</th>\n",
       "      <td>1627</td>\n",
       "    </tr>\n",
       "    <tr>\n",
       "      <th>41-50</th>\n",
       "      <td>762</td>\n",
       "    </tr>\n",
       "    <tr>\n",
       "      <th>51-60</th>\n",
       "      <td>642</td>\n",
       "    </tr>\n",
       "    <tr>\n",
       "      <th>61+</th>\n",
       "      <td>401</td>\n",
       "    </tr>\n",
       "  </tbody>\n",
       "</table>\n",
       "</div>"
      ],
      "text/plain": [
       "              count\n",
       "          converted\n",
       "age_group          \n",
       "17-20            16\n",
       "21-30           809\n",
       "31-40          1627\n",
       "41-50           762\n",
       "51-60           642\n",
       "61+             401"
      ]
     },
     "execution_count": 149,
     "metadata": {},
     "output_type": "execute_result"
    }
   ],
   "source": [
    "age_bins = [0, 20, 30, 40, 50, 60, float('inf')]\n",
    "age_labels = ['17-20', '21-30', '31-40', '41-50', '51-60', '61+']\n",
    "df['age_group'] = pd.cut(df['age'], bins=age_bins, labels=age_labels, right=False)\n",
    "pivot_table_df = df[df['converted'] == 'yes'].pivot_table(values='converted', index='age_group', aggfunc=['count'])\n",
    "pivot_table_df\n"
   ]
  },
  {
   "cell_type": "markdown",
   "id": "c3262400",
   "metadata": {},
   "source": [
    "Lidé vě věku 31 až 40 let (1627) reagovali nejlépe na nabídku banky."
   ]
  },
  {
   "cell_type": "code",
   "execution_count": 150,
   "id": "f7627322",
   "metadata": {
    "scrolled": false
   },
   "outputs": [
    {
     "data": {
      "text/plain": [
       "Text(0.5, 1.0, 'Konverze dle věkových skupin')"
      ]
     },
     "execution_count": 150,
     "metadata": {},
     "output_type": "execute_result"
    },
    {
     "data": {
      "image/png": "[encoded data removed]",
      "text/plain": [
       "<Figure size 1500x800 with 1 Axes>"
      ]
     },
     "metadata": {},
     "output_type": "display_data"
    }
   ],
   "source": [
    "plt.subplots(figsize = ((15,8)))\n",
    "sns.countplot(x=\"age_group\", data=df, hue=\"converted\", dodge=False, order=df.age_group.value_counts().index)\n",
    "plt.title(\"Konverze dle věkových skupin\")"
   ]
  },
  {
   "cell_type": "markdown",
   "id": "b94f9a40",
   "metadata": {},
   "source": [
    "## 1.1 - Job"
   ]
  },
  {
   "cell_type": "markdown",
   "id": "69cf30c6",
   "metadata": {},
   "source": [
    "### 1.1.1 - Jaké je rozdělení zaměstnanců dle kategorie zaměstnání?"
   ]
  },
  {
   "cell_type": "code",
   "execution_count": 151,
   "id": "9c5a2ba2",
   "metadata": {},
   "outputs": [
    {
     "data": {
      "text/plain": [
       "admin.           9929\n",
       "blue-collar      8549\n",
       "technician       6375\n",
       "services         3711\n",
       "management       2727\n",
       "retired          1576\n",
       "entrepreneur     1360\n",
       "self-employed    1349\n",
       "housemaid         986\n",
       "unemployed        963\n",
       "student           688\n",
       "Name: job, dtype: int64"
      ]
     },
     "execution_count": 151,
     "metadata": {},
     "output_type": "execute_result"
    }
   ],
   "source": [
    "df[\"job\"].value_counts()"
   ]
  },
  {
   "cell_type": "markdown",
   "id": "33fb9ee4",
   "metadata": {},
   "source": [
    "- V datasetu se nachází nejčastěji lidé, kteří pracují na administrativní pozici. (9929)"
   ]
  },
  {
   "cell_type": "code",
   "execution_count": 152,
   "id": "2e44a07a",
   "metadata": {},
   "outputs": [
    {
     "data": {
      "image/png": "[encoded data removed]",
      "text/plain": [
       "<Figure size 1500x800 with 1 Axes>"
      ]
     },
     "metadata": {},
     "output_type": "display_data"
    }
   ],
   "source": [
    "plt.subplots(figsize = ((15,8)))\n",
    "sns.countplot(x = \"job\", data=df, hue=\"converted\", dodge=False, order=df.job.value_counts().index)\n",
    "plt.title(\"Konverze dle kategorie zaměstnání\")\n",
    "plt.show()\n"
   ]
  },
  {
   "cell_type": "markdown",
   "id": "e277578a",
   "metadata": {},
   "source": [
    "### 1.1.2 - U které pracovní oblasti bylo zaznamenáno nejvíce konverzí?"
   ]
  },
  {
   "cell_type": "code",
   "execution_count": 153,
   "id": "34447f55",
   "metadata": {},
   "outputs": [
    {
     "data": {
      "text/html": [
       "<div>\n",
       "<style scoped>\n",
       "    .dataframe tbody tr th:only-of-type {\n",
       "        vertical-align: middle;\n",
       "    }\n",
       "\n",
       "    .dataframe tbody tr th {\n",
       "        vertical-align: top;\n",
       "    }\n",
       "\n",
       "    .dataframe thead th {\n",
       "        text-align: right;\n",
       "    }\n",
       "</style>\n",
       "<table border=\"1\" class=\"dataframe\">\n",
       "  <thead>\n",
       "    <tr style=\"text-align: right;\">\n",
       "      <th></th>\n",
       "      <th>converted</th>\n",
       "    </tr>\n",
       "    <tr>\n",
       "      <th>job</th>\n",
       "      <th></th>\n",
       "    </tr>\n",
       "  </thead>\n",
       "  <tbody>\n",
       "    <tr>\n",
       "      <th>admin.</th>\n",
       "      <td>1282</td>\n",
       "    </tr>\n",
       "    <tr>\n",
       "      <th>technician</th>\n",
       "      <td>683</td>\n",
       "    </tr>\n",
       "    <tr>\n",
       "      <th>blue-collar</th>\n",
       "      <td>595</td>\n",
       "    </tr>\n",
       "    <tr>\n",
       "      <th>retired</th>\n",
       "      <td>390</td>\n",
       "    </tr>\n",
       "    <tr>\n",
       "      <th>management</th>\n",
       "      <td>304</td>\n",
       "    </tr>\n",
       "    <tr>\n",
       "      <th>services</th>\n",
       "      <td>297</td>\n",
       "    </tr>\n",
       "    <tr>\n",
       "      <th>student</th>\n",
       "      <td>208</td>\n",
       "    </tr>\n",
       "    <tr>\n",
       "      <th>self-employed</th>\n",
       "      <td>146</td>\n",
       "    </tr>\n",
       "    <tr>\n",
       "      <th>unemployed</th>\n",
       "      <td>138</td>\n",
       "    </tr>\n",
       "    <tr>\n",
       "      <th>entrepreneur</th>\n",
       "      <td>116</td>\n",
       "    </tr>\n",
       "    <tr>\n",
       "      <th>housemaid</th>\n",
       "      <td>98</td>\n",
       "    </tr>\n",
       "  </tbody>\n",
       "</table>\n",
       "</div>"
      ],
      "text/plain": [
       "               converted\n",
       "job                     \n",
       "admin.              1282\n",
       "technician           683\n",
       "blue-collar          595\n",
       "retired              390\n",
       "management           304\n",
       "services             297\n",
       "student              208\n",
       "self-employed        146\n",
       "unemployed           138\n",
       "entrepreneur         116\n",
       "housemaid             98"
      ]
     },
     "execution_count": 153,
     "metadata": {},
     "output_type": "execute_result"
    }
   ],
   "source": [
    "(df[df['converted'] == 'yes'].pivot_table(values=['converted'], index='job', aggfunc='count').sort_values(by='converted', ascending=False))"
   ]
  },
  {
   "cell_type": "markdown",
   "id": "6fcb4436",
   "metadata": {},
   "source": [
    "- Nejvyšší počet konverzí byl zaznamenán u lidí, kteří pracují v administrativní oblasti. (1282)"
   ]
  },
  {
   "cell_type": "markdown",
   "id": "259ee539",
   "metadata": {},
   "source": [
    "## 1.2 - Marital"
   ]
  },
  {
   "cell_type": "markdown",
   "id": "394a3868",
   "metadata": {},
   "source": [
    "### 1.2.1 Jaký je počet lidí v jednotlivých kategoriích rodinného stavu?\n"
   ]
  },
  {
   "cell_type": "code",
   "execution_count": 154,
   "id": "780e0a38",
   "metadata": {},
   "outputs": [
    {
     "data": {
      "text/plain": [
       "married     23161\n",
       "single      10751\n",
       "divorced     4301\n",
       "Name: marital, dtype: int64"
      ]
     },
     "execution_count": 154,
     "metadata": {},
     "output_type": "execute_result"
    }
   ],
   "source": [
    "df[\"marital\"].value_counts()"
   ]
  },
  {
   "cell_type": "markdown",
   "id": "5c02dc7c",
   "metadata": {},
   "source": [
    "Rodinný stav\n",
    "- 23161 lidí je v manželství.\n",
    "- 10751 lidí je svobodných.\n",
    "- 4301 lidí je rozvedených."
   ]
  },
  {
   "cell_type": "markdown",
   "id": "54f4cef8",
   "metadata": {},
   "source": [
    "### 1.2.2 - Jaký je průměrný věk v jednotlivých kategoriích rodinného stavu?"
   ]
  },
  {
   "cell_type": "code",
   "execution_count": 155,
   "id": "0ded3622",
   "metadata": {},
   "outputs": [
    {
     "data": {
      "text/plain": [
       "marital\n",
       "divorced    44\n",
       "married     42\n",
       "single      33\n",
       "Name: age, dtype: int64"
      ]
     },
     "execution_count": 155,
     "metadata": {},
     "output_type": "execute_result"
    }
   ],
   "source": [
    "# Průměrný věk dle rodinného stavu\n",
    "df.groupby('marital')['age'].mean().astype(\"int64\")"
   ]
  },
  {
   "cell_type": "markdown",
   "id": "dbcea6e4",
   "metadata": {},
   "source": [
    "Rodinný stav\n",
    "- Průměrný věk lidí, kteří jsou rozvedení je 44 let.\n",
    "- Průměrný věk lidí, kteří jsou v manželství je 42 let.\n",
    "- Průměrný věk lidí, kteří jsou svobodní je 33 let."
   ]
  },
  {
   "cell_type": "markdown",
   "id": "2427cddc",
   "metadata": {},
   "source": [
    "### 1.2.3 - U jakého rodinného stavu bylo zaznamenáno nejvíce konverzí?"
   ]
  },
  {
   "cell_type": "code",
   "execution_count": 156,
   "id": "e1d22823",
   "metadata": {},
   "outputs": [
    {
     "data": {
      "text/html": [
       "<div>\n",
       "<style scoped>\n",
       "    .dataframe tbody tr th:only-of-type {\n",
       "        vertical-align: middle;\n",
       "    }\n",
       "\n",
       "    .dataframe tbody tr th {\n",
       "        vertical-align: top;\n",
       "    }\n",
       "\n",
       "    .dataframe thead th {\n",
       "        text-align: right;\n",
       "    }\n",
       "</style>\n",
       "<table border=\"1\" class=\"dataframe\">\n",
       "  <thead>\n",
       "    <tr style=\"text-align: right;\">\n",
       "      <th></th>\n",
       "      <th>converted</th>\n",
       "    </tr>\n",
       "    <tr>\n",
       "      <th>marital</th>\n",
       "      <th></th>\n",
       "    </tr>\n",
       "  </thead>\n",
       "  <tbody>\n",
       "    <tr>\n",
       "      <th>married</th>\n",
       "      <td>2340</td>\n",
       "    </tr>\n",
       "    <tr>\n",
       "      <th>single</th>\n",
       "      <td>1469</td>\n",
       "    </tr>\n",
       "    <tr>\n",
       "      <th>divorced</th>\n",
       "      <td>448</td>\n",
       "    </tr>\n",
       "  </tbody>\n",
       "</table>\n",
       "</div>"
      ],
      "text/plain": [
       "          converted\n",
       "marital            \n",
       "married        2340\n",
       "single         1469\n",
       "divorced        448"
      ]
     },
     "execution_count": 156,
     "metadata": {},
     "output_type": "execute_result"
    }
   ],
   "source": [
    "(df[df['converted'] == 'yes'].pivot_table(values=['converted'], index='marital', aggfunc='count').sort_values(by='converted', ascending=False))"
   ]
  },
  {
   "cell_type": "markdown",
   "id": "25855a89",
   "metadata": {},
   "source": [
    "- Nejvíc konverzí (2340) bylo zaznamenáno u lidí v manželství (married)."
   ]
  },
  {
   "cell_type": "code",
   "execution_count": 157,
   "id": "7e0eecb8",
   "metadata": {},
   "outputs": [
    {
     "data": {
      "image/png": "[encoded data removed]",
      "text/plain": [
       "<Figure size 1500x800 with 1 Axes>"
      ]
     },
     "metadata": {},
     "output_type": "display_data"
    }
   ],
   "source": [
    "plt.subplots(figsize = ((15,8)))\n",
    "sns.countplot(x=\"marital\", data=df, hue=\"converted\", dodge=False, order=df.marital.value_counts().index)\n",
    "plt.title(\"Srovnání rodinného stavu mezi lidmi, kteří přijali a nepřijali nabídku banky\")\n",
    "plt.title(\"Konverze dle rodinného stavu\")\n",
    "plt.show()"
   ]
  },
  {
   "cell_type": "markdown",
   "id": "fa8f6d86",
   "metadata": {},
   "source": [
    "## 1.3 - Education"
   ]
  },
  {
   "cell_type": "markdown",
   "id": "9562eb1c",
   "metadata": {},
   "source": [
    "### 1.3.1 Jaký je počet lidí v jednotlivých kategoriích vzdělání?\n"
   ]
  },
  {
   "cell_type": "code",
   "execution_count": 158,
   "id": "97551496",
   "metadata": {},
   "outputs": [
    {
     "data": {
      "text/plain": [
       "university.degree      11812\n",
       "high.school             9237\n",
       "basic.9y                5850\n",
       "professional.course     5096\n",
       "basic.4y                3999\n",
       "basic.6y                2201\n",
       "illiterate                18\n",
       "Name: education, dtype: int64"
      ]
     },
     "execution_count": 158,
     "metadata": {},
     "output_type": "execute_result"
    }
   ],
   "source": [
    "df[\"education\"].value_counts()"
   ]
  },
  {
   "cell_type": "markdown",
   "id": "01820090",
   "metadata": {},
   "source": [
    "- Lidé s vysokoškolským vzděláním (11812) se nacházejí v datasetu nejčastěji."
   ]
  },
  {
   "cell_type": "markdown",
   "id": "d8c2034a",
   "metadata": {},
   "source": [
    "### 1.3.2 U jaké kategorie vzdělání bylo zaznamenáno nejvíce konverzí?\n",
    "\n"
   ]
  },
  {
   "cell_type": "code",
   "execution_count": 159,
   "id": "27ef025e",
   "metadata": {},
   "outputs": [
    {
     "data": {
      "text/html": [
       "<div>\n",
       "<style scoped>\n",
       "    .dataframe tbody tr th:only-of-type {\n",
       "        vertical-align: middle;\n",
       "    }\n",
       "\n",
       "    .dataframe tbody tr th {\n",
       "        vertical-align: top;\n",
       "    }\n",
       "\n",
       "    .dataframe thead th {\n",
       "        text-align: right;\n",
       "    }\n",
       "</style>\n",
       "<table border=\"1\" class=\"dataframe\">\n",
       "  <thead>\n",
       "    <tr style=\"text-align: right;\">\n",
       "      <th></th>\n",
       "      <th>converted</th>\n",
       "    </tr>\n",
       "    <tr>\n",
       "      <th>education</th>\n",
       "      <th></th>\n",
       "    </tr>\n",
       "  </thead>\n",
       "  <tbody>\n",
       "    <tr>\n",
       "      <th>university.degree</th>\n",
       "      <td>1619</td>\n",
       "    </tr>\n",
       "    <tr>\n",
       "      <th>high.school</th>\n",
       "      <td>1007</td>\n",
       "    </tr>\n",
       "    <tr>\n",
       "      <th>professional.course</th>\n",
       "      <td>578</td>\n",
       "    </tr>\n",
       "    <tr>\n",
       "      <th>basic.9y</th>\n",
       "      <td>457</td>\n",
       "    </tr>\n",
       "    <tr>\n",
       "      <th>basic.4y</th>\n",
       "      <td>412</td>\n",
       "    </tr>\n",
       "    <tr>\n",
       "      <th>basic.6y</th>\n",
       "      <td>180</td>\n",
       "    </tr>\n",
       "    <tr>\n",
       "      <th>illiterate</th>\n",
       "      <td>4</td>\n",
       "    </tr>\n",
       "  </tbody>\n",
       "</table>\n",
       "</div>"
      ],
      "text/plain": [
       "                     converted\n",
       "education                     \n",
       "university.degree         1619\n",
       "high.school               1007\n",
       "professional.course        578\n",
       "basic.9y                   457\n",
       "basic.4y                   412\n",
       "basic.6y                   180\n",
       "illiterate                   4"
      ]
     },
     "execution_count": 159,
     "metadata": {},
     "output_type": "execute_result"
    }
   ],
   "source": [
    "(df[df['converted'] == 'yes'].pivot_table(values=['converted'], index='education', aggfunc='count').sort_values(by='converted', ascending=False))"
   ]
  },
  {
   "cell_type": "markdown",
   "id": "e6a288bf",
   "metadata": {},
   "source": [
    "- Nejvíc konverzí (1619) bylo zaznamenáno u lidí s vysokoškolským vzděláním (university.degree)."
   ]
  },
  {
   "cell_type": "code",
   "execution_count": 160,
   "id": "6f38f8c7",
   "metadata": {},
   "outputs": [
    {
     "data": {
      "image/png": "[encoded data removed]",
      "text/plain": [
       "<Figure size 1500x800 with 1 Axes>"
      ]
     },
     "metadata": {},
     "output_type": "display_data"
    }
   ],
   "source": [
    "plt.subplots(figsize = ((15,8)))\n",
    "sns.countplot(x=\"education\", data=df, hue=\"converted\", dodge=False, order=df.education.value_counts().index)\n",
    "plt.title(\"Konverze dle vzdělání\")\n",
    "plt.show()"
   ]
  },
  {
   "cell_type": "markdown",
   "id": "43fdd67c",
   "metadata": {},
   "source": [
    "## 1.4 - Loan"
   ]
  },
  {
   "cell_type": "markdown",
   "id": "906746e6",
   "metadata": {},
   "source": [
    "### 1.4.1 - Kolik lidí má u banky půjčku?"
   ]
  },
  {
   "cell_type": "code",
   "execution_count": 161,
   "id": "5b2ebeae",
   "metadata": {},
   "outputs": [
    {
     "data": {
      "text/plain": [
       "no     32255\n",
       "yes     5958\n",
       "Name: loan, dtype: int64"
      ]
     },
     "execution_count": 161,
     "metadata": {},
     "output_type": "execute_result"
    }
   ],
   "source": [
    "df[\"loan\"].value_counts()"
   ]
  },
  {
   "cell_type": "markdown",
   "id": "8ff5b67b",
   "metadata": {},
   "source": [
    "- Počet lidí s půjčkou je 32255.\n",
    "- Počet lidí bez půjčky je 5958. "
   ]
  },
  {
   "cell_type": "markdown",
   "id": "3c2dc36c",
   "metadata": {},
   "source": [
    "### 1.4.2 - Kolik lidí s půjčkou a bez půjčky provedlo konverzi?"
   ]
  },
  {
   "cell_type": "code",
   "execution_count": 162,
   "id": "3f897fce",
   "metadata": {},
   "outputs": [
    {
     "data": {
      "text/html": [
       "<div>\n",
       "<style scoped>\n",
       "    .dataframe tbody tr th:only-of-type {\n",
       "        vertical-align: middle;\n",
       "    }\n",
       "\n",
       "    .dataframe tbody tr th {\n",
       "        vertical-align: top;\n",
       "    }\n",
       "\n",
       "    .dataframe thead th {\n",
       "        text-align: right;\n",
       "    }\n",
       "</style>\n",
       "<table border=\"1\" class=\"dataframe\">\n",
       "  <thead>\n",
       "    <tr style=\"text-align: right;\">\n",
       "      <th></th>\n",
       "      <th>converted</th>\n",
       "    </tr>\n",
       "    <tr>\n",
       "      <th>loan</th>\n",
       "      <th></th>\n",
       "    </tr>\n",
       "  </thead>\n",
       "  <tbody>\n",
       "    <tr>\n",
       "      <th>no</th>\n",
       "      <td>3618</td>\n",
       "    </tr>\n",
       "    <tr>\n",
       "      <th>yes</th>\n",
       "      <td>639</td>\n",
       "    </tr>\n",
       "  </tbody>\n",
       "</table>\n",
       "</div>"
      ],
      "text/plain": [
       "      converted\n",
       "loan           \n",
       "no         3618\n",
       "yes         639"
      ]
     },
     "execution_count": 162,
     "metadata": {},
     "output_type": "execute_result"
    }
   ],
   "source": [
    "df[df['converted'] == 'yes'].pivot_table(values=['converted'], index='loan', aggfunc='count')"
   ]
  },
  {
   "cell_type": "markdown",
   "id": "7db90ea4",
   "metadata": {},
   "source": [
    "- Lidé s půjčkou přijali nabídku banky v 639 případech.\n",
    "- Lidé bez půjčky přijali nabídku banky v 3618 případech."
   ]
  },
  {
   "cell_type": "code",
   "execution_count": 163,
   "id": "cf9bc96b",
   "metadata": {},
   "outputs": [
    {
     "data": {
      "image/png": "[encoded data removed]",
      "text/plain": [
       "<Figure size 640x480 with 1 Axes>"
      ]
     },
     "metadata": {},
     "output_type": "display_data"
    }
   ],
   "source": [
    "sns.countplot(x=\"loan\", data=df, hue=\"converted\", dodge=False, order=df.loan.value_counts().index)\n",
    "plt.title(\"Konverze mezi lidmi s půjčkou a lidmi bez půjčky\")\n",
    "plt.show()"
   ]
  },
  {
   "cell_type": "markdown",
   "id": "e321ebe3",
   "metadata": {},
   "source": [
    "## 1.5 - Konverze"
   ]
  },
  {
   "cell_type": "markdown",
   "id": "5bfb6757",
   "metadata": {},
   "source": [
    "### 1.5.1 - Kolik zaznamenala marketingová kampaň konverzí?"
   ]
  },
  {
   "cell_type": "code",
   "execution_count": 164,
   "id": "b01ecd4c",
   "metadata": {},
   "outputs": [
    {
     "data": {
      "image/png": "[encoded data removed]",
      "text/plain": [
       "<Figure size 640x480 with 1 Axes>"
      ]
     },
     "metadata": {},
     "output_type": "display_data"
    }
   ],
   "source": [
    "converted = df['converted'].value_counts()\n",
    "labels = df['converted'].value_counts(sort = True).index\n",
    "plt.pie(converted, labels=labels, autopct='%1.1f%%', startangle=200)\n",
    "plt.title(\"Konverze\")\n",
    "plt.show()"
   ]
  },
  {
   "cell_type": "code",
   "execution_count": 165,
   "id": "68a431af",
   "metadata": {},
   "outputs": [
    {
     "data": {
      "text/plain": [
       "yes    4257\n",
       "no        0\n",
       "Name: converted, dtype: int64"
      ]
     },
     "execution_count": 165,
     "metadata": {},
     "output_type": "execute_result"
    }
   ],
   "source": [
    "df[df['converted'] == 'yes']['converted'].value_counts()"
   ]
  },
  {
   "cell_type": "markdown",
   "id": "cd1784cc",
   "metadata": {},
   "source": [
    "- Marketingová kampaň zaznamenala 4257 konverzí, tedy lidí, kteří souhlasili s nabídkou banky."
   ]
  },
  {
   "cell_type": "markdown",
   "id": "0094dc73",
   "metadata": {},
   "source": [
    "## 1.6 - Call duration"
   ]
  },
  {
   "cell_type": "code",
   "execution_count": 166,
   "id": "08ba2daa",
   "metadata": {},
   "outputs": [
    {
     "data": {
      "text/plain": [
       "count    37418.000000\n",
       "mean         3.902213\n",
       "std          3.199750\n",
       "min          0.000000\n",
       "25%          1.683333\n",
       "50%          2.933333\n",
       "75%          5.100000\n",
       "max         17.283333\n",
       "Name: duration, dtype: float64"
      ]
     },
     "execution_count": 166,
     "metadata": {},
     "output_type": "execute_result"
    }
   ],
   "source": [
    "(duration_df[\"duration\"]/60).describe()"
   ]
  },
  {
   "cell_type": "code",
   "execution_count": 167,
   "id": "ed14c53d",
   "metadata": {},
   "outputs": [
    {
     "data": {
      "text/plain": [
       "2.933333333333333"
      ]
     },
     "execution_count": 167,
     "metadata": {},
     "output_type": "execute_result"
    }
   ],
   "source": [
    "(duration_df[\"duration\"]/60).median()"
   ]
  },
  {
   "cell_type": "markdown",
   "id": "bc60c01f",
   "metadata": {},
   "source": [
    "- Medián doby hovoru: 2.93 minuty"
   ]
  },
  {
   "cell_type": "markdown",
   "id": "d2f48f54",
   "metadata": {},
   "source": [
    "### 1.6.1 - Jaký byl medián délky hovoru v minutách pro jednotlivé pracovní dny v týdnu?"
   ]
  },
  {
   "cell_type": "code",
   "execution_count": 168,
   "id": "02f17e04",
   "metadata": {},
   "outputs": [
    {
     "data": {
      "text/html": [
       "<div>\n",
       "<style scoped>\n",
       "    .dataframe tbody tr th:only-of-type {\n",
       "        vertical-align: middle;\n",
       "    }\n",
       "\n",
       "    .dataframe tbody tr th {\n",
       "        vertical-align: top;\n",
       "    }\n",
       "\n",
       "    .dataframe thead tr th {\n",
       "        text-align: left;\n",
       "    }\n",
       "\n",
       "    .dataframe thead tr:last-of-type th {\n",
       "        text-align: right;\n",
       "    }\n",
       "</style>\n",
       "<table border=\"1\" class=\"dataframe\">\n",
       "  <thead>\n",
       "    <tr>\n",
       "      <th></th>\n",
       "      <th>median</th>\n",
       "    </tr>\n",
       "    <tr>\n",
       "      <th></th>\n",
       "      <th>duration</th>\n",
       "    </tr>\n",
       "    <tr>\n",
       "      <th>day_of_week</th>\n",
       "      <th></th>\n",
       "    </tr>\n",
       "  </thead>\n",
       "  <tbody>\n",
       "    <tr>\n",
       "      <th>fri</th>\n",
       "      <td>2.80</td>\n",
       "    </tr>\n",
       "    <tr>\n",
       "      <th>mon</th>\n",
       "      <td>2.82</td>\n",
       "    </tr>\n",
       "    <tr>\n",
       "      <th>thu</th>\n",
       "      <td>2.98</td>\n",
       "    </tr>\n",
       "    <tr>\n",
       "      <th>tue</th>\n",
       "      <td>3.02</td>\n",
       "    </tr>\n",
       "    <tr>\n",
       "      <th>wed</th>\n",
       "      <td>3.02</td>\n",
       "    </tr>\n",
       "  </tbody>\n",
       "</table>\n",
       "</div>"
      ],
      "text/plain": [
       "              median\n",
       "            duration\n",
       "day_of_week         \n",
       "fri             2.80\n",
       "mon             2.82\n",
       "thu             2.98\n",
       "tue             3.02\n",
       "wed             3.02"
      ]
     },
     "execution_count": 168,
     "metadata": {},
     "output_type": "execute_result"
    }
   ],
   "source": [
    "call_pivot = duration_df.pivot_table(values=['duration'], index='day_of_week', aggfunc=[\"median\"])\n",
    "call_pivot['median'] /= 60\n",
    "round(call_pivot,2)"
   ]
  },
  {
   "cell_type": "markdown",
   "id": "fa8e843b",
   "metadata": {},
   "source": [
    "### 1.6.2 - Má délka hovoru vliv na konverzi zákazníka? (Korelace)"
   ]
  },
  {
   "cell_type": "code",
   "execution_count": 169,
   "id": "6cee217e",
   "metadata": {},
   "outputs": [
    {
     "data": {
      "text/html": [
       "<div>\n",
       "<style scoped>\n",
       "    .dataframe tbody tr th:only-of-type {\n",
       "        vertical-align: middle;\n",
       "    }\n",
       "\n",
       "    .dataframe tbody tr th {\n",
       "        vertical-align: top;\n",
       "    }\n",
       "\n",
       "    .dataframe thead th {\n",
       "        text-align: right;\n",
       "    }\n",
       "</style>\n",
       "<table border=\"1\" class=\"dataframe\">\n",
       "  <thead>\n",
       "    <tr style=\"text-align: right;\">\n",
       "      <th></th>\n",
       "      <th>duration</th>\n",
       "    </tr>\n",
       "    <tr>\n",
       "      <th>converted</th>\n",
       "      <th></th>\n",
       "    </tr>\n",
       "  </thead>\n",
       "  <tbody>\n",
       "    <tr>\n",
       "      <th>no</th>\n",
       "      <td>2.700000</td>\n",
       "    </tr>\n",
       "    <tr>\n",
       "      <th>yes</th>\n",
       "      <td>6.633333</td>\n",
       "    </tr>\n",
       "  </tbody>\n",
       "</table>\n",
       "</div>"
      ],
      "text/plain": [
       "           duration\n",
       "converted          \n",
       "no         2.700000\n",
       "yes        6.633333"
      ]
     },
     "execution_count": 169,
     "metadata": {},
     "output_type": "execute_result"
    }
   ],
   "source": [
    "duration_df.pivot_table(values=['duration'], index='converted', aggfunc=lambda x: x.median() / 60)"
   ]
  },
  {
   "cell_type": "code",
   "execution_count": 170,
   "id": "09e64415",
   "metadata": {},
   "outputs": [
    {
     "data": {
      "text/plain": [
       "0.37854757847591697"
      ]
     },
     "execution_count": 170,
     "metadata": {},
     "output_type": "execute_result"
    }
   ],
   "source": [
    "# Korelace\n",
    "stats.pearsonr(duration_df['duration'], duration_df['converted'].map({'yes': 1, 'no': 0}))[0]\n"
   ]
  },
  {
   "cell_type": "markdown",
   "id": "0a3daae3",
   "metadata": {},
   "source": [
    "- H0: Korelační koeficient není významný.\n",
    "- H1: non H0\n",
    "- alfa = 0.05"
   ]
  },
  {
   "cell_type": "code",
   "execution_count": 171,
   "id": "d513498d",
   "metadata": {},
   "outputs": [
    {
     "data": {
      "text/plain": [
       "'0.0000000000'"
      ]
     },
     "execution_count": 171,
     "metadata": {},
     "output_type": "execute_result"
    }
   ],
   "source": [
    "p_value = stats.pearsonr(duration_df['duration'], duration_df['converted'].map({'yes': 1, 'no': 0}))[1]\n",
    "format(p_value, '.10f')"
   ]
  },
  {
   "cell_type": "markdown",
   "id": "e2508152",
   "metadata": {},
   "source": [
    "#### Test významnosti\n",
    "- výsledek: alfa > p_value\n",
    "- Na 5 % hladině významnosti zamítáme H0 o nevýznamnosti korelačního koeficientu, přijímáme H1.\n",
    "- Korelace mezi délkou hovoru (duration) a konverzemi (converted) o hodnotě 0.378, je pozitivní, ale spíše slabší. \n",
    "- Delší hovory vedou k většímu počtu konverzí."
   ]
  },
  {
   "cell_type": "markdown",
   "id": "dd658918",
   "metadata": {},
   "source": [
    "## 1.7 - Day of Week"
   ]
  },
  {
   "cell_type": "markdown",
   "id": "8257f65a",
   "metadata": {},
   "source": [
    "### 1.7.1 - Který den v týdnu bylo v součtu osloveno nejvíce zákazníků?\n"
   ]
  },
  {
   "cell_type": "code",
   "execution_count": 172,
   "id": "321051e0",
   "metadata": {},
   "outputs": [
    {
     "data": {
      "text/html": [
       "<div>\n",
       "<style scoped>\n",
       "    .dataframe tbody tr th:only-of-type {\n",
       "        vertical-align: middle;\n",
       "    }\n",
       "\n",
       "    .dataframe tbody tr th {\n",
       "        vertical-align: top;\n",
       "    }\n",
       "\n",
       "    .dataframe thead th {\n",
       "        text-align: right;\n",
       "    }\n",
       "</style>\n",
       "<table border=\"1\" class=\"dataframe\">\n",
       "  <thead>\n",
       "    <tr style=\"text-align: right;\">\n",
       "      <th></th>\n",
       "      <th>converted</th>\n",
       "    </tr>\n",
       "    <tr>\n",
       "      <th>day_of_week</th>\n",
       "      <th></th>\n",
       "    </tr>\n",
       "  </thead>\n",
       "  <tbody>\n",
       "    <tr>\n",
       "      <th>thu</th>\n",
       "      <td>7999</td>\n",
       "    </tr>\n",
       "    <tr>\n",
       "      <th>mon</th>\n",
       "      <td>7924</td>\n",
       "    </tr>\n",
       "    <tr>\n",
       "      <th>wed</th>\n",
       "      <td>7595</td>\n",
       "    </tr>\n",
       "    <tr>\n",
       "      <th>tue</th>\n",
       "      <td>7474</td>\n",
       "    </tr>\n",
       "    <tr>\n",
       "      <th>fri</th>\n",
       "      <td>7221</td>\n",
       "    </tr>\n",
       "  </tbody>\n",
       "</table>\n",
       "</div>"
      ],
      "text/plain": [
       "             converted\n",
       "day_of_week           \n",
       "thu               7999\n",
       "mon               7924\n",
       "wed               7595\n",
       "tue               7474\n",
       "fri               7221"
      ]
     },
     "execution_count": 172,
     "metadata": {},
     "output_type": "execute_result"
    }
   ],
   "source": [
    "df.pivot_table(values=['converted'], index='day_of_week', aggfunc='count').sort_values(by='converted', ascending=False)\n"
   ]
  },
  {
   "cell_type": "markdown",
   "id": "dc664832",
   "metadata": {},
   "source": [
    "- čtvrtek (7999)"
   ]
  },
  {
   "cell_type": "code",
   "execution_count": 173,
   "id": "7c0d44dd",
   "metadata": {
    "scrolled": false
   },
   "outputs": [
    {
     "data": {
      "text/plain": [
       "Text(0.5, 1.0, 'Počet obvolaných zákazníků dle dne v týdnu')"
      ]
     },
     "execution_count": 173,
     "metadata": {},
     "output_type": "execute_result"
    },
    {
     "data": {
      "image/png": "[encoded data removed]",
      "text/plain": [
       "<Figure size 640x480 with 1 Axes>"
      ]
     },
     "metadata": {},
     "output_type": "display_data"
    }
   ],
   "source": [
    "sns.countplot(x=df.day_of_week, data=df)\n",
    "plt.title(\"Počet obvolaných zákazníků dle dne v týdnu\")"
   ]
  },
  {
   "cell_type": "markdown",
   "id": "55be2ad3",
   "metadata": {},
   "source": [
    "### 1.7.2 - Který den v týdnu zaznamenal nejvíce konverzí?\n"
   ]
  },
  {
   "cell_type": "code",
   "execution_count": 174,
   "id": "6113ff78",
   "metadata": {},
   "outputs": [
    {
     "data": {
      "text/html": [
       "<div>\n",
       "<style scoped>\n",
       "    .dataframe tbody tr th:only-of-type {\n",
       "        vertical-align: middle;\n",
       "    }\n",
       "\n",
       "    .dataframe tbody tr th {\n",
       "        vertical-align: top;\n",
       "    }\n",
       "\n",
       "    .dataframe thead th {\n",
       "        text-align: right;\n",
       "    }\n",
       "</style>\n",
       "<table border=\"1\" class=\"dataframe\">\n",
       "  <thead>\n",
       "    <tr style=\"text-align: right;\">\n",
       "      <th></th>\n",
       "      <th>converted</th>\n",
       "    </tr>\n",
       "    <tr>\n",
       "      <th>day_of_week</th>\n",
       "      <th></th>\n",
       "    </tr>\n",
       "  </thead>\n",
       "  <tbody>\n",
       "    <tr>\n",
       "      <th>thu</th>\n",
       "      <td>961</td>\n",
       "    </tr>\n",
       "    <tr>\n",
       "      <th>wed</th>\n",
       "      <td>875</td>\n",
       "    </tr>\n",
       "    <tr>\n",
       "      <th>tue</th>\n",
       "      <td>864</td>\n",
       "    </tr>\n",
       "    <tr>\n",
       "      <th>mon</th>\n",
       "      <td>786</td>\n",
       "    </tr>\n",
       "    <tr>\n",
       "      <th>fri</th>\n",
       "      <td>771</td>\n",
       "    </tr>\n",
       "  </tbody>\n",
       "</table>\n",
       "</div>"
      ],
      "text/plain": [
       "             converted\n",
       "day_of_week           \n",
       "thu                961\n",
       "wed                875\n",
       "tue                864\n",
       "mon                786\n",
       "fri                771"
      ]
     },
     "execution_count": 174,
     "metadata": {},
     "output_type": "execute_result"
    }
   ],
   "source": [
    "call_day = (df.pivot_table(values='converted', index='day_of_week', aggfunc=lambda x: (x == 'yes')\n",
    "              .sum()).sort_values(by='converted', ascending=False))\n",
    "call_day"
   ]
  },
  {
   "cell_type": "markdown",
   "id": "41b75199",
   "metadata": {},
   "source": [
    "- čtvrtek (961)"
   ]
  },
  {
   "cell_type": "code",
   "execution_count": 175,
   "id": "fabaf0e8",
   "metadata": {},
   "outputs": [
    {
     "data": {
      "text/plain": [
       "Text(0.5, 1.0, 'Konverze dle dne v týdnu')"
      ]
     },
     "execution_count": 175,
     "metadata": {},
     "output_type": "execute_result"
    },
    {
     "data": {
      "image/png": "[encoded data removed]",
      "text/plain": [
       "<Figure size 640x480 with 1 Axes>"
      ]
     },
     "metadata": {},
     "output_type": "display_data"
    }
   ],
   "source": [
    "sns.countplot(x=df.day_of_week, hue=\"converted\", data=df)\n",
    "plt.title(\"Konverze dle dne v týdnu\")"
   ]
  },
  {
   "cell_type": "markdown",
   "id": "2eaa4df2",
   "metadata": {},
   "source": [
    "## 1.8 - Call Month"
   ]
  },
  {
   "cell_type": "markdown",
   "id": "b42ff31b",
   "metadata": {},
   "source": [
    "### 1.8.1 - Kolik hovorů se uskutečnilo v jednotlivých měsících?"
   ]
  },
  {
   "cell_type": "code",
   "execution_count": 176,
   "id": "055c30b7",
   "metadata": {},
   "outputs": [
    {
     "data": {
      "text/html": [
       "<div>\n",
       "<style scoped>\n",
       "    .dataframe tbody tr th:only-of-type {\n",
       "        vertical-align: middle;\n",
       "    }\n",
       "\n",
       "    .dataframe tbody tr th {\n",
       "        vertical-align: top;\n",
       "    }\n",
       "\n",
       "    .dataframe thead th {\n",
       "        text-align: right;\n",
       "    }\n",
       "</style>\n",
       "<table border=\"1\" class=\"dataframe\">\n",
       "  <thead>\n",
       "    <tr style=\"text-align: right;\">\n",
       "      <th></th>\n",
       "      <th>converted</th>\n",
       "    </tr>\n",
       "    <tr>\n",
       "      <th>month</th>\n",
       "      <th></th>\n",
       "    </tr>\n",
       "  </thead>\n",
       "  <tbody>\n",
       "    <tr>\n",
       "      <th>may</th>\n",
       "      <td>12780</td>\n",
       "    </tr>\n",
       "    <tr>\n",
       "      <th>jul</th>\n",
       "      <td>6623</td>\n",
       "    </tr>\n",
       "    <tr>\n",
       "      <th>aug</th>\n",
       "      <td>5818</td>\n",
       "    </tr>\n",
       "    <tr>\n",
       "      <th>jun</th>\n",
       "      <td>4846</td>\n",
       "    </tr>\n",
       "    <tr>\n",
       "      <th>nov</th>\n",
       "      <td>3894</td>\n",
       "    </tr>\n",
       "    <tr>\n",
       "      <th>apr</th>\n",
       "      <td>2434</td>\n",
       "    </tr>\n",
       "    <tr>\n",
       "      <th>oct</th>\n",
       "      <td>658</td>\n",
       "    </tr>\n",
       "    <tr>\n",
       "      <th>sep</th>\n",
       "      <td>502</td>\n",
       "    </tr>\n",
       "    <tr>\n",
       "      <th>mar</th>\n",
       "      <td>497</td>\n",
       "    </tr>\n",
       "    <tr>\n",
       "      <th>dec</th>\n",
       "      <td>161</td>\n",
       "    </tr>\n",
       "  </tbody>\n",
       "</table>\n",
       "</div>"
      ],
      "text/plain": [
       "       converted\n",
       "month           \n",
       "may        12780\n",
       "jul         6623\n",
       "aug         5818\n",
       "jun         4846\n",
       "nov         3894\n",
       "apr         2434\n",
       "oct          658\n",
       "sep          502\n",
       "mar          497\n",
       "dec          161"
      ]
     },
     "execution_count": 176,
     "metadata": {},
     "output_type": "execute_result"
    }
   ],
   "source": [
    "df.pivot_table(values='converted', index='month', aggfunc=\"count\").sort_values(by='converted', ascending=False)"
   ]
  },
  {
   "cell_type": "markdown",
   "id": "afed9d6e",
   "metadata": {},
   "source": [
    "### 1.8.2 - Jaký byl nejlepší měsíc v počtu konverzí?"
   ]
  },
  {
   "cell_type": "code",
   "execution_count": 177,
   "id": "37420074",
   "metadata": {},
   "outputs": [
    {
     "data": {
      "text/html": [
       "<div>\n",
       "<style scoped>\n",
       "    .dataframe tbody tr th:only-of-type {\n",
       "        vertical-align: middle;\n",
       "    }\n",
       "\n",
       "    .dataframe tbody tr th {\n",
       "        vertical-align: top;\n",
       "    }\n",
       "\n",
       "    .dataframe thead th {\n",
       "        text-align: right;\n",
       "    }\n",
       "</style>\n",
       "<table border=\"1\" class=\"dataframe\">\n",
       "  <thead>\n",
       "    <tr style=\"text-align: right;\">\n",
       "      <th></th>\n",
       "      <th>converted</th>\n",
       "    </tr>\n",
       "    <tr>\n",
       "      <th>month</th>\n",
       "      <th></th>\n",
       "    </tr>\n",
       "  </thead>\n",
       "  <tbody>\n",
       "    <tr>\n",
       "      <th>may</th>\n",
       "      <td>830</td>\n",
       "    </tr>\n",
       "    <tr>\n",
       "      <th>jul</th>\n",
       "      <td>598</td>\n",
       "    </tr>\n",
       "    <tr>\n",
       "      <th>aug</th>\n",
       "      <td>596</td>\n",
       "    </tr>\n",
       "    <tr>\n",
       "      <th>jun</th>\n",
       "      <td>511</td>\n",
       "    </tr>\n",
       "    <tr>\n",
       "      <th>apr</th>\n",
       "      <td>486</td>\n",
       "    </tr>\n",
       "    <tr>\n",
       "      <th>nov</th>\n",
       "      <td>385</td>\n",
       "    </tr>\n",
       "    <tr>\n",
       "      <th>oct</th>\n",
       "      <td>297</td>\n",
       "    </tr>\n",
       "    <tr>\n",
       "      <th>mar</th>\n",
       "      <td>252</td>\n",
       "    </tr>\n",
       "    <tr>\n",
       "      <th>sep</th>\n",
       "      <td>225</td>\n",
       "    </tr>\n",
       "    <tr>\n",
       "      <th>dec</th>\n",
       "      <td>77</td>\n",
       "    </tr>\n",
       "  </tbody>\n",
       "</table>\n",
       "</div>"
      ],
      "text/plain": [
       "       converted\n",
       "month           \n",
       "may          830\n",
       "jul          598\n",
       "aug          596\n",
       "jun          511\n",
       "apr          486\n",
       "nov          385\n",
       "oct          297\n",
       "mar          252\n",
       "sep          225\n",
       "dec           77"
      ]
     },
     "execution_count": 177,
     "metadata": {},
     "output_type": "execute_result"
    }
   ],
   "source": [
    "(df.pivot_table(values='converted', index='month', aggfunc=lambda x: (x == 'yes')\n",
    "                .sum()).sort_values(by='converted', ascending=False))"
   ]
  },
  {
   "cell_type": "markdown",
   "id": "eb0eb18e",
   "metadata": {},
   "source": [
    "- Nejlepší měsíc v počtu konverzí: byl květen (may - 830) s počtem obvolaných zákazníků (12780)\n",
    "- Druhým nejlepším měsícem byl červenec (jul - 598), oproti květnu byl obvolán skoro povoloviční počet zákazníků. "
   ]
  },
  {
   "cell_type": "code",
   "execution_count": 178,
   "id": "8a2b9c36",
   "metadata": {},
   "outputs": [
    {
     "data": {
      "text/plain": [
       "Text(0.5, 1.0, 'Konverze dle měsíce')"
      ]
     },
     "execution_count": 178,
     "metadata": {},
     "output_type": "execute_result"
    },
    {
     "data": {
      "image/png": "[encoded data removed]",
      "text/plain": [
       "<Figure size 640x480 with 1 Axes>"
      ]
     },
     "metadata": {},
     "output_type": "display_data"
    }
   ],
   "source": [
    "sns.countplot(x='month', hue='converted', data = df[['month', 'converted']],order = df['month'].value_counts().index)\n",
    "plt.title(\"Konverze dle měsíce\")"
   ]
  },
  {
   "cell_type": "code",
   "execution_count": 179,
   "id": "935c985c",
   "metadata": {},
   "outputs": [
    {
     "data": {
      "text/plain": [
       "Text(0.5, 1.0, 'Počet obvolaných zákazníků dle měsíce')"
      ]
     },
     "execution_count": 179,
     "metadata": {},
     "output_type": "execute_result"
    },
    {
     "data": {
      "image/png": "[encoded data removed]",
      "text/plain": [
       "<Figure size 640x480 with 1 Axes>"
      ]
     },
     "metadata": {},
     "output_type": "display_data"
    }
   ],
   "source": [
    "sns.countplot(x='month', data = df[['month']],order=df['month'].value_counts().index)\n",
    "plt.title(\"Počet obvolaných zákazníků dle měsíce\")"
   ]
  }
 ],
 "metadata": {
  "kernelspec": {
   "display_name": "Python 3 (ipykernel)",
   "language": "python",
   "name": "python3"
  },
  "language_info": {
   "codemirror_mode": {
    "name": "ipython",
    "version": 3
   },
   "file_extension": ".py",
   "mimetype": "text/x-python",
   "name": "python",
   "nbconvert_exporter": "python",
   "pygments_lexer": "ipython3",
   "version": "3.11.3"
  }
 },
 "nbformat": 4,
 "nbformat_minor": 5
}
